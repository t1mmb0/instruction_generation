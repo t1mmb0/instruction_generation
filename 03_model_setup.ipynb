{
 "cells": [
  {
   "cell_type": "markdown",
   "id": "f4c371e4",
   "metadata": {},
   "source": [
    "# 1. Imports and configuration"
   ]
  },
  {
   "cell_type": "code",
   "execution_count": 29,
   "id": "bd9e2b8e",
   "metadata": {},
   "outputs": [],
   "source": [
    "import pandas as pd\n",
    "import os\n",
    "import re\n",
    "from config import CONFIG\n"
   ]
  },
  {
   "cell_type": "code",
   "execution_count": 30,
   "id": "d47efe33",
   "metadata": {},
   "outputs": [],
   "source": [
    "raw_data_path = CONFIG[\"paths\"][\"raw_data\"]\n",
    "processed_data_path = CONFIG[\"paths\"][\"processsed\"]"
   ]
  },
  {
   "cell_type": "code",
   "execution_count": 31,
   "id": "d9872cfe",
   "metadata": {},
   "outputs": [],
   "source": [
    "model_df = pd.read_csv(\"./results/df_20006-1.csv\", na_values=[\"\", \" \"])\n",
    "ground_truth = pd.read_csv(\"./results/gt_20006-1.csv\", na_values=[\"\", \" \"])"
   ]
  },
  {
   "cell_type": "code",
   "execution_count": 32,
   "id": "86d4768b",
   "metadata": {},
   "outputs": [
    {
     "data": {
      "text/html": [
       "<div>\n",
       "<style scoped>\n",
       "    .dataframe tbody tr th:only-of-type {\n",
       "        vertical-align: middle;\n",
       "    }\n",
       "\n",
       "    .dataframe tbody tr th {\n",
       "        vertical-align: top;\n",
       "    }\n",
       "\n",
       "    .dataframe thead th {\n",
       "        text-align: right;\n",
       "    }\n",
       "</style>\n",
       "<table border=\"1\" class=\"dataframe\">\n",
       "  <thead>\n",
       "    <tr style=\"text-align: right;\">\n",
       "      <th></th>\n",
       "      <th>part_id_1</th>\n",
       "      <th>part_id_2</th>\n",
       "      <th>connected</th>\n",
       "    </tr>\n",
       "  </thead>\n",
       "  <tbody>\n",
       "    <tr>\n",
       "      <th>0</th>\n",
       "      <td>0</td>\n",
       "      <td>1</td>\n",
       "      <td>0</td>\n",
       "    </tr>\n",
       "    <tr>\n",
       "      <th>1</th>\n",
       "      <td>0</td>\n",
       "      <td>2</td>\n",
       "      <td>1</td>\n",
       "    </tr>\n",
       "    <tr>\n",
       "      <th>2</th>\n",
       "      <td>0</td>\n",
       "      <td>3</td>\n",
       "      <td>1</td>\n",
       "    </tr>\n",
       "    <tr>\n",
       "      <th>3</th>\n",
       "      <td>0</td>\n",
       "      <td>4</td>\n",
       "      <td>0</td>\n",
       "    </tr>\n",
       "    <tr>\n",
       "      <th>4</th>\n",
       "      <td>0</td>\n",
       "      <td>5</td>\n",
       "      <td>0</td>\n",
       "    </tr>\n",
       "  </tbody>\n",
       "</table>\n",
       "</div>"
      ],
      "text/plain": [
       "   part_id_1  part_id_2  connected\n",
       "0          0          1          0\n",
       "1          0          2          1\n",
       "2          0          3          1\n",
       "3          0          4          0\n",
       "4          0          5          0"
      ]
     },
     "execution_count": 32,
     "metadata": {},
     "output_type": "execute_result"
    }
   ],
   "source": [
    "ground_truth.head()"
   ]
  },
  {
   "cell_type": "code",
   "execution_count": 33,
   "id": "81c05d5c",
   "metadata": {},
   "outputs": [
    {
     "name": "stdout",
     "output_type": "stream",
     "text": [
      "<class 'pandas.core.frame.DataFrame'>\n",
      "RangeIndex: 2278 entries, 0 to 2277\n",
      "Data columns (total 3 columns):\n",
      " #   Column     Non-Null Count  Dtype\n",
      "---  ------     --------------  -----\n",
      " 0   part_id_1  2278 non-null   int64\n",
      " 1   part_id_2  2278 non-null   int64\n",
      " 2   connected  2278 non-null   int64\n",
      "dtypes: int64(3)\n",
      "memory usage: 53.5 KB\n"
     ]
    }
   ],
   "source": [
    "ground_truth.info()"
   ]
  },
  {
   "cell_type": "code",
   "execution_count": 34,
   "id": "7d97d31f",
   "metadata": {},
   "outputs": [
    {
     "name": "stdout",
     "output_type": "stream",
     "text": [
      "<class 'pandas.core.frame.DataFrame'>\n",
      "RangeIndex: 68 entries, 0 to 67\n",
      "Data columns (total 24 columns):\n",
      " #   Column         Non-Null Count  Dtype  \n",
      "---  ------         --------------  -----  \n",
      " 0   part_id        68 non-null     int64  \n",
      " 1   color          68 non-null     int64  \n",
      " 2   x              68 non-null     float64\n",
      " 3   y              68 non-null     float64\n",
      " 4   z              68 non-null     float64\n",
      " 5   a              68 non-null     float64\n",
      " 6   b              68 non-null     float64\n",
      " 7   c              68 non-null     float64\n",
      " 8   d              68 non-null     float64\n",
      " 9   e              68 non-null     float64\n",
      " 10  f              68 non-null     float64\n",
      " 11  g              68 non-null     float64\n",
      " 12  h              68 non-null     float64\n",
      " 13  i              68 non-null     float64\n",
      " 14  part           68 non-null     object \n",
      " 15  part_name      65 non-null     object \n",
      " 16  part_cat_id    65 non-null     float64\n",
      " 17  year_from      65 non-null     float64\n",
      " 18  year_to        65 non-null     float64\n",
      " 19  category_name  65 non-null     object \n",
      " 20  dim1           55 non-null     float64\n",
      " 21  dim2           55 non-null     float64\n",
      " 22  dim3           0 non-null      float64\n",
      " 23  bracket_info   7 non-null      object \n",
      "dtypes: float64(18), int64(2), object(4)\n",
      "memory usage: 12.9+ KB\n"
     ]
    }
   ],
   "source": [
    "model_df.info()"
   ]
  },
  {
   "cell_type": "code",
   "execution_count": 35,
   "id": "e8a33964",
   "metadata": {},
   "outputs": [],
   "source": [
    "gt = ground_truth"
   ]
  },
  {
   "cell_type": "code",
   "execution_count": 37,
   "id": "73b11ceb",
   "metadata": {},
   "outputs": [],
   "source": [
    "def make_pair_id(a, b):\n",
    "    a, b = int(a), int(b)\n",
    "    return f\"{min(a,b)}__{max(a,b)}\"\n",
    "\n",
    "gt[\"pair_id\"] = gt.apply(lambda r: make_pair_id(r[\"part_id_1\"], r[\"part_id_2\"]), axis=1)"
   ]
  },
  {
   "cell_type": "code",
   "execution_count": 42,
   "id": "572b5663",
   "metadata": {},
   "outputs": [
    {
     "name": "stdout",
     "output_type": "stream",
     "text": [
      "Labels are binary OK\n"
     ]
    }
   ],
   "source": [
    "# 1) expect undirected, unique pairs\n",
    "assert gt[\"pair_id\"].nunique() == len(gt), \"Duplicate pairs found.\"\n",
    "\n",
    "# 2) no self-edges\n",
    "assert (gt[\"part_id_1\"] != gt[\"part_id_2\"]).all(), \"Self-edges present.\"\n",
    "\n",
    "# 3) ids exist in df\n",
    "valid_ids = set(model_df[\"part_id\"])\n",
    "assert set(gt[\"part_id_1\"]).issubset(valid_ids) and set(gt[\"part_id_2\"]).issubset(valid_ids), \"Unknown part_id in GT.\"\n",
    "\n",
    "# 4) labels are binary\n",
    "assert set(gt[\"connected\"].unique()) <= {0,1}, \"Non-binary labels.\"\n",
    "\n",
    "\n",
    "print(\"Labels are binary OK\")"
   ]
  },
  {
   "cell_type": "code",
   "execution_count": 43,
   "id": "b9ea8c73",
   "metadata": {},
   "outputs": [
    {
     "data": {
      "text/html": [
       "<div>\n",
       "<style scoped>\n",
       "    .dataframe tbody tr th:only-of-type {\n",
       "        vertical-align: middle;\n",
       "    }\n",
       "\n",
       "    .dataframe tbody tr th {\n",
       "        vertical-align: top;\n",
       "    }\n",
       "\n",
       "    .dataframe thead th {\n",
       "        text-align: right;\n",
       "    }\n",
       "</style>\n",
       "<table border=\"1\" class=\"dataframe\">\n",
       "  <thead>\n",
       "    <tr style=\"text-align: right;\">\n",
       "      <th></th>\n",
       "      <th>part_id_1</th>\n",
       "      <th>part_id_2</th>\n",
       "      <th>connected</th>\n",
       "      <th>pair_id</th>\n",
       "    </tr>\n",
       "  </thead>\n",
       "  <tbody>\n",
       "    <tr>\n",
       "      <th>0</th>\n",
       "      <td>0</td>\n",
       "      <td>1</td>\n",
       "      <td>0</td>\n",
       "      <td>0__1</td>\n",
       "    </tr>\n",
       "    <tr>\n",
       "      <th>1</th>\n",
       "      <td>0</td>\n",
       "      <td>2</td>\n",
       "      <td>1</td>\n",
       "      <td>0__2</td>\n",
       "    </tr>\n",
       "    <tr>\n",
       "      <th>2</th>\n",
       "      <td>0</td>\n",
       "      <td>3</td>\n",
       "      <td>1</td>\n",
       "      <td>0__3</td>\n",
       "    </tr>\n",
       "    <tr>\n",
       "      <th>3</th>\n",
       "      <td>0</td>\n",
       "      <td>4</td>\n",
       "      <td>0</td>\n",
       "      <td>0__4</td>\n",
       "    </tr>\n",
       "    <tr>\n",
       "      <th>4</th>\n",
       "      <td>0</td>\n",
       "      <td>5</td>\n",
       "      <td>0</td>\n",
       "      <td>0__5</td>\n",
       "    </tr>\n",
       "  </tbody>\n",
       "</table>\n",
       "</div>"
      ],
      "text/plain": [
       "   part_id_1  part_id_2  connected pair_id\n",
       "0          0          1          0    0__1\n",
       "1          0          2          1    0__2\n",
       "2          0          3          1    0__3\n",
       "3          0          4          0    0__4\n",
       "4          0          5          0    0__5"
      ]
     },
     "execution_count": 43,
     "metadata": {},
     "output_type": "execute_result"
    }
   ],
   "source": [
    "gt.head()"
   ]
  }
 ],
 "metadata": {
  "kernelspec": {
   "display_name": ".venv",
   "language": "python",
   "name": "python3"
  },
  "language_info": {
   "codemirror_mode": {
    "name": "ipython",
    "version": 3
   },
   "file_extension": ".py",
   "mimetype": "text/x-python",
   "name": "python",
   "nbconvert_exporter": "python",
   "pygments_lexer": "ipython3",
   "version": "3.11.9"
  }
 },
 "nbformat": 4,
 "nbformat_minor": 5
}
