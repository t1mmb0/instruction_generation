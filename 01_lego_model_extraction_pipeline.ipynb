{
 "cells": [
  {
   "cell_type": "markdown",
   "id": "0300c474",
   "metadata": {},
   "source": [
    "# 1. Imports and configuration"
   ]
  },
  {
   "cell_type": "code",
   "execution_count": 69,
   "id": "57f758ec",
   "metadata": {},
   "outputs": [],
   "source": [
    "import pandas as pd\n",
    "import os\n",
    "import re\n",
    "from config import CONFIG\n"
   ]
  },
  {
   "cell_type": "code",
   "execution_count": 89,
   "id": "e982b880",
   "metadata": {},
   "outputs": [],
   "source": [
    "raw_data_path = CONFIG[\"paths\"][\"raw_data\"]\n",
    "processed_data_path = CONFIG[\"paths\"][\"processsed\"]"
   ]
  },
  {
   "cell_type": "code",
   "execution_count": 71,
   "id": "de5d8460",
   "metadata": {},
   "outputs": [],
   "source": [
    "# API-Key aus Textdatei laden\n",
    "with open(\"API_KEY.txt\", \"r\") as f:\n",
    "    API_KEY = f.read().strip()"
   ]
  },
  {
   "cell_type": "markdown",
   "id": "c78f3409",
   "metadata": {},
   "source": [
    "# 2. Load LEGO model (MPD/LDR file) into a DataFrame"
   ]
  },
  {
   "cell_type": "code",
   "execution_count": 72,
   "id": "82fad3f7",
   "metadata": {},
   "outputs": [],
   "source": [
    "def parse_model_to_df(filepath):\n",
    "    \"\"\"\n",
    "    Liest eine .ldr-Datei im LDraw-Format ein und gibt einen DataFrame mit allen Bauteilzeilen (Typ 1) zurück.\n",
    "\n",
    "    Parameter:\n",
    "    ----------\n",
    "    filepath : str\n",
    "        Pfad zur .ldr-Datei\n",
    "\n",
    "    Rückgabe:\n",
    "    ---------\n",
    "    df : pd.DataFrame\n",
    "        DataFrame mit Spalten: color, x, y, z, a-i (Matrix), part\n",
    "    \"\"\"\n",
    "    part_lines = []\n",
    "\n",
    "    # Datei einlesen\n",
    "    try:\n",
    "        with open(filepath, 'r') as f:\n",
    "            for line in f:\n",
    "                if line.startswith('1 '):  # Nur Teilezeilen (Typ 1)\n",
    "                    part_lines.append(line.strip())\n",
    "    except FileNotFoundError:\n",
    "        raise FileNotFoundError(f\"Datei nicht gefunden: {filepath}\")\n",
    "    except Exception as e:\n",
    "        raise RuntimeError(f\"Fehler beim Einlesen der Datei: {e}\")\n",
    "\n",
    "    # Zerlegen in strukturierte Daten\n",
    "    data = []\n",
    "    for line in part_lines:\n",
    "        parts = line.split()\n",
    "        if len(parts) >= 15:\n",
    "            data.append({\n",
    "                'color': int(parts[1]),\n",
    "                'x': float(parts[2]),\n",
    "                'y': float(parts[3]),\n",
    "                'z': float(parts[4]),\n",
    "                'a': float(parts[5]), 'b': float(parts[6]), 'c': float(parts[7]),\n",
    "                'd': float(parts[8]), 'e': float(parts[9]), 'f': float(parts[10]),\n",
    "                'g': float(parts[11]), 'h': float(parts[12]), 'i': float(parts[13]),\n",
    "                'part': parts[14]\n",
    "            })\n",
    "\n",
    "    # In DataFrame umwandeln\n",
    "    df = pd.DataFrame(data)\n",
    "\n",
    "    return df"
   ]
  },
  {
   "cell_type": "code",
   "execution_count": 73,
   "id": "b2a5dac7",
   "metadata": {},
   "outputs": [],
   "source": [
    "model_name = \"30050-1.mpd\""
   ]
  },
  {
   "cell_type": "code",
   "execution_count": 91,
   "id": "5f851667",
   "metadata": {},
   "outputs": [],
   "source": [
    "model_dataframe = parse_model_to_df(os.path.join(raw_data_path, model_name))\n",
    "model_dataframe[\"part\"] = model_dataframe[\"part\"].apply(lambda x: os.path.splitext(x)[0])"
   ]
  },
  {
   "cell_type": "markdown",
   "id": "9382566a",
   "metadata": {},
   "source": [
    "# 3. Build Dataframe for parts"
   ]
  },
  {
   "cell_type": "markdown",
   "id": "ef4e6486",
   "metadata": {},
   "source": [
    "## 3.1 Extract part numbers from `raw_parts_df`"
   ]
  },
  {
   "cell_type": "code",
   "execution_count": 75,
   "id": "86596066",
   "metadata": {},
   "outputs": [],
   "source": [
    "parts = model_dataframe[\"part\"].unique()\n",
    "for n, part in enumerate(parts):\n",
    "    part = part.split(\".\")\n",
    "    parts[n] = part[0]"
   ]
  },
  {
   "cell_type": "markdown",
   "id": "7fa56c48",
   "metadata": {},
   "source": [
    "## 3.2 Fetch part information from the Rebrickable API"
   ]
  },
  {
   "cell_type": "code",
   "execution_count": 76,
   "id": "70ef834e",
   "metadata": {},
   "outputs": [
    {
     "name": "stdout",
     "output_type": "stream",
     "text": [
      "Fehler Part_NUM: 30050, Position: 0; 404;{\"detail\":\"No Part matches the given query.\"}\n",
      "Fehler Part_NUM: 2436a, Position: 8; 404;{\"detail\":\"No Part matches the given query.\"}\n",
      "Abgeschlossen!\n"
     ]
    }
   ],
   "source": [
    "import requests\n",
    "results = []\n",
    "\n",
    "for counter, part_num in enumerate(parts):\n",
    "    PART_NUM = part_num  \n",
    "    url = f\"https://rebrickable.com/api/v3/lego/parts/{PART_NUM}/\"\n",
    "    headers = {\"Authorization\": f\"key {API_KEY}\"}\n",
    "\n",
    "    response = requests.get(url, headers=headers)\n",
    "\n",
    "    if response.status_code == 200:\n",
    "        data = response.json()\n",
    "        data_normalized = pd.json_normalize(data)\n",
    "        results.append(pd.json_normalize(response.json()))\n",
    "\n",
    "    else:\n",
    "        print(f\"Fehler Part_NUM: {part_num}, Position: {counter}; {response.status_code};{response.text}\")\n",
    "\n",
    "print(\"Abgeschlossen!\")"
   ]
  },
  {
   "cell_type": "code",
   "execution_count": 77,
   "id": "7ba48f76",
   "metadata": {},
   "outputs": [],
   "source": [
    "raw_parts_df = pd.concat(results)"
   ]
  },
  {
   "cell_type": "markdown",
   "id": "633543c6",
   "metadata": {},
   "source": [
    "## 3.3. Load part category information and merge with ``raw_parts_df``"
   ]
  },
  {
   "cell_type": "code",
   "execution_count": 78,
   "id": "55b4fba2",
   "metadata": {},
   "outputs": [
    {
     "data": {
      "application/vnd.microsoft.datawrangler.viewer.v0+json": {
       "columns": [
        {
         "name": "index",
         "rawType": "int64",
         "type": "integer"
        },
        {
         "name": "part_num",
         "rawType": "object",
         "type": "string"
        },
        {
         "name": "part_name",
         "rawType": "object",
         "type": "string"
        },
        {
         "name": "part_cat_id",
         "rawType": "int64",
         "type": "integer"
        },
        {
         "name": "year_from",
         "rawType": "int64",
         "type": "integer"
        },
        {
         "name": "year_to",
         "rawType": "int64",
         "type": "integer"
        },
        {
         "name": "part_url",
         "rawType": "object",
         "type": "string"
        },
        {
         "name": "part_img_url",
         "rawType": "object",
         "type": "string"
        },
        {
         "name": "prints",
         "rawType": "object",
         "type": "unknown"
        },
        {
         "name": "molds",
         "rawType": "object",
         "type": "unknown"
        },
        {
         "name": "alternates",
         "rawType": "object",
         "type": "unknown"
        },
        {
         "name": "print_of",
         "rawType": "object",
         "type": "unknown"
        },
        {
         "name": "external_ids.BrickLink",
         "rawType": "object",
         "type": "unknown"
        },
        {
         "name": "external_ids.BrickOwl",
         "rawType": "object",
         "type": "unknown"
        },
        {
         "name": "external_ids.Brickset",
         "rawType": "object",
         "type": "unknown"
        },
        {
         "name": "external_ids.LDraw",
         "rawType": "object",
         "type": "unknown"
        },
        {
         "name": "external_ids.LEGO",
         "rawType": "object",
         "type": "unknown"
        },
        {
         "name": "external_ids.Peeron",
         "rawType": "object",
         "type": "unknown"
        },
        {
         "name": "category_name",
         "rawType": "object",
         "type": "string"
        }
       ],
       "ref": "a7fa21d6-b280-4f1a-8d87-cfee51fd964d",
       "rows": [
        [
         "0",
         "3020",
         "Plate 2 x 4",
         "14",
         "1962",
         "2025",
         "https://rebrickable.com/parts/3020/plate-2-x-4/",
         "https://cdn.rebrickable.com/media/parts/elements/302026.jpg",
         "[]",
         "['3020a']",
         "['3709']",
         null,
         "['3020']",
         "['80025']",
         "['3020', '5584']",
         "['3020']",
         "['3020', '5584']",
         null,
         "Plates"
        ],
        [
         "1",
         "3021",
         "Plate 2 x 3",
         "14",
         "1962",
         "2025",
         "https://rebrickable.com/parts/3021/plate-2-x-3/",
         "https://cdn.rebrickable.com/media/parts/elements/302126.jpg",
         "[]",
         "[]",
         "[]",
         null,
         "['3021']",
         "['960521']",
         "['3021']",
         "['3021']",
         "['3021']",
         null,
         "Plates"
        ],
        [
         "2",
         "4081b",
         "Plate Special 1 x 1 with Clip Light, Bar Hole [Thick Ring]",
         "9",
         "1984",
         "2025",
         "https://rebrickable.com/parts/4081b/plate-special-1-x-1-with-clip-light-bar-hole-thick-ring/",
         "https://cdn.rebrickable.com/media/parts/elements/408126.jpg",
         "[]",
         "[]",
         "['4081a']",
         null,
         "['4081b']",
         "['194287']",
         "['4018', '4081', '41632']",
         "['4081b']",
         "['4081', '41632']",
         null,
         "Plates Special"
        ],
        [
         "3",
         "60470a",
         "Plate Special 1 x 2 with Clips Horizontal [Thick U-Clips]",
         "9",
         "2007",
         "2013",
         "https://rebrickable.com/parts/60470a/plate-special-1-x-2-with-clips-horizontal-thick-u-clips/",
         "https://cdn.rebrickable.com/media/parts/ldraw/71/60470a.png",
         "[]",
         "['60470b']",
         "[]",
         null,
         "['60470']",
         "['20393']",
         "['60470']",
         "['60470a']",
         "['60470']",
         "['60470']",
         "Plates Special"
        ],
        [
         "4",
         "3710",
         "Plate 1 x 4",
         "14",
         "1976",
         "2025",
         "https://rebrickable.com/parts/3710/plate-1-x-4/",
         "https://cdn.rebrickable.com/media/parts/elements/371026.jpg",
         "['3710pr0003', '3710pr0001', '3710pr0002']",
         "[]",
         "[]",
         null,
         "['3710']",
         "['515555']",
         "['3710']",
         "['3710']",
         "['3710']",
         null,
         "Plates"
        ]
       ],
       "shape": {
        "columns": 18,
        "rows": 5
       }
      },
      "text/html": [
       "<div>\n",
       "<style scoped>\n",
       "    .dataframe tbody tr th:only-of-type {\n",
       "        vertical-align: middle;\n",
       "    }\n",
       "\n",
       "    .dataframe tbody tr th {\n",
       "        vertical-align: top;\n",
       "    }\n",
       "\n",
       "    .dataframe thead th {\n",
       "        text-align: right;\n",
       "    }\n",
       "</style>\n",
       "<table border=\"1\" class=\"dataframe\">\n",
       "  <thead>\n",
       "    <tr style=\"text-align: right;\">\n",
       "      <th></th>\n",
       "      <th>part_num</th>\n",
       "      <th>part_name</th>\n",
       "      <th>part_cat_id</th>\n",
       "      <th>year_from</th>\n",
       "      <th>year_to</th>\n",
       "      <th>part_url</th>\n",
       "      <th>part_img_url</th>\n",
       "      <th>prints</th>\n",
       "      <th>molds</th>\n",
       "      <th>alternates</th>\n",
       "      <th>print_of</th>\n",
       "      <th>external_ids.BrickLink</th>\n",
       "      <th>external_ids.BrickOwl</th>\n",
       "      <th>external_ids.Brickset</th>\n",
       "      <th>external_ids.LDraw</th>\n",
       "      <th>external_ids.LEGO</th>\n",
       "      <th>external_ids.Peeron</th>\n",
       "      <th>category_name</th>\n",
       "    </tr>\n",
       "  </thead>\n",
       "  <tbody>\n",
       "    <tr>\n",
       "      <th>0</th>\n",
       "      <td>3020</td>\n",
       "      <td>Plate 2 x 4</td>\n",
       "      <td>14</td>\n",
       "      <td>1962</td>\n",
       "      <td>2025</td>\n",
       "      <td>https://rebrickable.com/parts/3020/plate-2-x-4/</td>\n",
       "      <td>https://cdn.rebrickable.com/media/parts/elemen...</td>\n",
       "      <td>[]</td>\n",
       "      <td>[3020a]</td>\n",
       "      <td>[3709]</td>\n",
       "      <td>None</td>\n",
       "      <td>[3020]</td>\n",
       "      <td>[80025]</td>\n",
       "      <td>[3020, 5584]</td>\n",
       "      <td>[3020]</td>\n",
       "      <td>[3020, 5584]</td>\n",
       "      <td>NaN</td>\n",
       "      <td>Plates</td>\n",
       "    </tr>\n",
       "    <tr>\n",
       "      <th>1</th>\n",
       "      <td>3021</td>\n",
       "      <td>Plate 2 x 3</td>\n",
       "      <td>14</td>\n",
       "      <td>1962</td>\n",
       "      <td>2025</td>\n",
       "      <td>https://rebrickable.com/parts/3021/plate-2-x-3/</td>\n",
       "      <td>https://cdn.rebrickable.com/media/parts/elemen...</td>\n",
       "      <td>[]</td>\n",
       "      <td>[]</td>\n",
       "      <td>[]</td>\n",
       "      <td>None</td>\n",
       "      <td>[3021]</td>\n",
       "      <td>[960521]</td>\n",
       "      <td>[3021]</td>\n",
       "      <td>[3021]</td>\n",
       "      <td>[3021]</td>\n",
       "      <td>NaN</td>\n",
       "      <td>Plates</td>\n",
       "    </tr>\n",
       "    <tr>\n",
       "      <th>2</th>\n",
       "      <td>4081b</td>\n",
       "      <td>Plate Special 1 x 1 with Clip Light, Bar Hole ...</td>\n",
       "      <td>9</td>\n",
       "      <td>1984</td>\n",
       "      <td>2025</td>\n",
       "      <td>https://rebrickable.com/parts/4081b/plate-spec...</td>\n",
       "      <td>https://cdn.rebrickable.com/media/parts/elemen...</td>\n",
       "      <td>[]</td>\n",
       "      <td>[]</td>\n",
       "      <td>[4081a]</td>\n",
       "      <td>None</td>\n",
       "      <td>[4081b]</td>\n",
       "      <td>[194287]</td>\n",
       "      <td>[4018, 4081, 41632]</td>\n",
       "      <td>[4081b]</td>\n",
       "      <td>[4081, 41632]</td>\n",
       "      <td>NaN</td>\n",
       "      <td>Plates Special</td>\n",
       "    </tr>\n",
       "    <tr>\n",
       "      <th>3</th>\n",
       "      <td>60470a</td>\n",
       "      <td>Plate Special 1 x 2 with Clips Horizontal [Thi...</td>\n",
       "      <td>9</td>\n",
       "      <td>2007</td>\n",
       "      <td>2013</td>\n",
       "      <td>https://rebrickable.com/parts/60470a/plate-spe...</td>\n",
       "      <td>https://cdn.rebrickable.com/media/parts/ldraw/...</td>\n",
       "      <td>[]</td>\n",
       "      <td>[60470b]</td>\n",
       "      <td>[]</td>\n",
       "      <td>None</td>\n",
       "      <td>[60470]</td>\n",
       "      <td>[20393]</td>\n",
       "      <td>[60470]</td>\n",
       "      <td>[60470a]</td>\n",
       "      <td>[60470]</td>\n",
       "      <td>[60470]</td>\n",
       "      <td>Plates Special</td>\n",
       "    </tr>\n",
       "    <tr>\n",
       "      <th>4</th>\n",
       "      <td>3710</td>\n",
       "      <td>Plate 1 x 4</td>\n",
       "      <td>14</td>\n",
       "      <td>1976</td>\n",
       "      <td>2025</td>\n",
       "      <td>https://rebrickable.com/parts/3710/plate-1-x-4/</td>\n",
       "      <td>https://cdn.rebrickable.com/media/parts/elemen...</td>\n",
       "      <td>[3710pr0003, 3710pr0001, 3710pr0002]</td>\n",
       "      <td>[]</td>\n",
       "      <td>[]</td>\n",
       "      <td>None</td>\n",
       "      <td>[3710]</td>\n",
       "      <td>[515555]</td>\n",
       "      <td>[3710]</td>\n",
       "      <td>[3710]</td>\n",
       "      <td>[3710]</td>\n",
       "      <td>NaN</td>\n",
       "      <td>Plates</td>\n",
       "    </tr>\n",
       "  </tbody>\n",
       "</table>\n",
       "</div>"
      ],
      "text/plain": [
       "  part_num                                          part_name  part_cat_id  \\\n",
       "0     3020                                        Plate 2 x 4           14   \n",
       "1     3021                                        Plate 2 x 3           14   \n",
       "2    4081b  Plate Special 1 x 1 with Clip Light, Bar Hole ...            9   \n",
       "3   60470a  Plate Special 1 x 2 with Clips Horizontal [Thi...            9   \n",
       "4     3710                                        Plate 1 x 4           14   \n",
       "\n",
       "   year_from  year_to                                           part_url  \\\n",
       "0       1962     2025    https://rebrickable.com/parts/3020/plate-2-x-4/   \n",
       "1       1962     2025    https://rebrickable.com/parts/3021/plate-2-x-3/   \n",
       "2       1984     2025  https://rebrickable.com/parts/4081b/plate-spec...   \n",
       "3       2007     2013  https://rebrickable.com/parts/60470a/plate-spe...   \n",
       "4       1976     2025    https://rebrickable.com/parts/3710/plate-1-x-4/   \n",
       "\n",
       "                                        part_img_url  \\\n",
       "0  https://cdn.rebrickable.com/media/parts/elemen...   \n",
       "1  https://cdn.rebrickable.com/media/parts/elemen...   \n",
       "2  https://cdn.rebrickable.com/media/parts/elemen...   \n",
       "3  https://cdn.rebrickable.com/media/parts/ldraw/...   \n",
       "4  https://cdn.rebrickable.com/media/parts/elemen...   \n",
       "\n",
       "                                 prints     molds alternates print_of  \\\n",
       "0                                    []   [3020a]     [3709]     None   \n",
       "1                                    []        []         []     None   \n",
       "2                                    []        []    [4081a]     None   \n",
       "3                                    []  [60470b]         []     None   \n",
       "4  [3710pr0003, 3710pr0001, 3710pr0002]        []         []     None   \n",
       "\n",
       "  external_ids.BrickLink external_ids.BrickOwl external_ids.Brickset  \\\n",
       "0                 [3020]               [80025]          [3020, 5584]   \n",
       "1                 [3021]              [960521]                [3021]   \n",
       "2                [4081b]              [194287]   [4018, 4081, 41632]   \n",
       "3                [60470]               [20393]               [60470]   \n",
       "4                 [3710]              [515555]                [3710]   \n",
       "\n",
       "  external_ids.LDraw external_ids.LEGO external_ids.Peeron   category_name  \n",
       "0             [3020]      [3020, 5584]                 NaN          Plates  \n",
       "1             [3021]            [3021]                 NaN          Plates  \n",
       "2            [4081b]     [4081, 41632]                 NaN  Plates Special  \n",
       "3           [60470a]           [60470]             [60470]  Plates Special  \n",
       "4             [3710]            [3710]                 NaN          Plates  "
      ]
     },
     "execution_count": 78,
     "metadata": {},
     "output_type": "execute_result"
    }
   ],
   "source": [
    "part_category_df = pd.read_csv(\"./data/part_categories.csv\")\n",
    "parts_df = raw_parts_df.merge(part_category_df, left_on=\"part_cat_id\", right_on=\"id\", how=\"left\")\n",
    "\n",
    "# schöner benennen:\n",
    "parts_df = parts_df.rename(columns={\"name_x\": \"part_name\", \"name_y\": \"category_name\"})\n",
    "parts_df = parts_df.drop(columns=[\"id\", \"part_count\"])\n",
    "parts_df.head()"
   ]
  },
  {
   "cell_type": "markdown",
   "id": "7ae30961",
   "metadata": {},
   "source": [
    "## 3.4 Function definitions for extracting structural information from `part_name` (applied in 3.5)"
   ]
  },
  {
   "cell_type": "code",
   "execution_count": 79,
   "id": "2d424474",
   "metadata": {},
   "outputs": [],
   "source": [
    "def extract_dimensions(name):\n",
    "    # 3D-Maße (z. B. 1 x 1 x 2/3)\n",
    "    match3 = re.search(r\"(\\d+)\\s*x\\s*(\\d+)\\s*x\\s*([\\d/]+)\", name)\n",
    "    if match3:\n",
    "        return match3.groups()\n",
    "\n",
    "    # 2D-Maße (z. B. 2 x 4 oder 18 x 14)\n",
    "    match2 = re.search(r\"(\\d+)\\s*x\\s*(\\d+)\", name)\n",
    "    if match2:\n",
    "        return (*match2.groups(), None)\n",
    "\n",
    "    return (None, None, None)"
   ]
  },
  {
   "cell_type": "code",
   "execution_count": 80,
   "id": "1edbd716",
   "metadata": {},
   "outputs": [],
   "source": [
    "def extract_bracket_info(name):\n",
    "    bracket_match = re.search(r\"\\[(.*?)\\]\", name)\n",
    "    bracket_text = bracket_match.group(1) if bracket_match else None\n",
    "\n",
    "    return bracket_text"
   ]
  },
  {
   "cell_type": "markdown",
   "id": "7d759651",
   "metadata": {},
   "source": [
    "## 3.5 Apply extraction functions to `part_name`"
   ]
  },
  {
   "cell_type": "code",
   "execution_count": 81,
   "id": "8af9cd23",
   "metadata": {},
   "outputs": [],
   "source": [
    "parts_df[[\"dim1\", \"dim2\", \"dim3\"]] = parts_df[\"part_name\"].apply(lambda x: pd.Series(extract_dimensions(x)))\n",
    "parts_df[\"bracket_info\"] = parts_df[\"part_name\"].apply(lambda x: pd.Series(extract_bracket_info(x)))"
   ]
  },
  {
   "cell_type": "markdown",
   "id": "e82e4044",
   "metadata": {},
   "source": [
    "# 4. Results"
   ]
  },
  {
   "cell_type": "code",
   "execution_count": 92,
   "id": "6b254b01",
   "metadata": {},
   "outputs": [],
   "source": [
    "base_name = os.path.splitext(model_name)[0]\n",
    "parts_df.to_csv(os.path.join(processed_data_path, f\"{base_name}_parts.csv\"), index=False)\n",
    "model_dataframe.to_csv(os.path.join(processed_data_path, f\"{base_name}_model.csv\"), index=False)"
   ]
  }
 ],
 "metadata": {
  "kernelspec": {
   "display_name": ".venv",
   "language": "python",
   "name": "python3"
  },
  "language_info": {
   "codemirror_mode": {
    "name": "ipython",
    "version": 3
   },
   "file_extension": ".py",
   "mimetype": "text/x-python",
   "name": "python",
   "nbconvert_exporter": "python",
   "pygments_lexer": "ipython3",
   "version": "3.11.9"
  }
 },
 "nbformat": 4,
 "nbformat_minor": 5
}
