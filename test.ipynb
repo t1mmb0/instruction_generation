{
 "cells": [
  {
   "cell_type": "code",
   "execution_count": 1,
   "id": "e631a373",
   "metadata": {},
   "outputs": [],
   "source": [
    "import pandas as pd\n",
    "import os\n",
    "import re\n",
    "from config import CONFIG"
   ]
  },
  {
   "cell_type": "code",
   "execution_count": 2,
   "id": "ed095898",
   "metadata": {},
   "outputs": [],
   "source": [
    "raw_data_path = CONFIG[\"paths\"][\"raw_data\"]\n",
    "processed_data_path = CONFIG[\"paths\"][\"processsed\"]\n",
    "results_path = CONFIG[\"paths\"][\"results\"]"
   ]
  },
  {
   "cell_type": "code",
   "execution_count": 3,
   "id": "897bcacd",
   "metadata": {},
   "outputs": [],
   "source": [
    "file_name = \"20009-1\""
   ]
  },
  {
   "cell_type": "code",
   "execution_count": 27,
   "id": "0bf1c1d7",
   "metadata": {},
   "outputs": [],
   "source": [
    "df = pd.read_csv(results_path + \"/df_\" + file_name + \".csv\", header=0, sep= \",\")\n",
    "gt = pd.read_csv(results_path + \"/gt_\" + file_name + \".csv\",header=0, sep=\";\")"
   ]
  },
  {
   "cell_type": "code",
   "execution_count": 28,
   "id": "bd9e4ce1",
   "metadata": {},
   "outputs": [
    {
     "data": {
      "text/plain": [
       "Index(['Column1', 'part_id_2', 'part_num_1', 'part_num_2', 'connected'], dtype='object')"
      ]
     },
     "execution_count": 28,
     "metadata": {},
     "output_type": "execute_result"
    }
   ],
   "source": [
    "gt.columns"
   ]
  },
  {
   "cell_type": "code",
   "execution_count": 29,
   "id": "1e506883",
   "metadata": {},
   "outputs": [],
   "source": [
    "gt.rename(columns={\"Column1\" : \"part_id_1\"}, inplace=True)"
   ]
  },
  {
   "cell_type": "code",
   "execution_count": 30,
   "id": "1e6d4c13",
   "metadata": {},
   "outputs": [
    {
     "data": {
      "application/vnd.microsoft.datawrangler.viewer.v0+json": {
       "columns": [
        {
         "name": "index",
         "rawType": "int64",
         "type": "integer"
        },
        {
         "name": "part_id_1",
         "rawType": "int64",
         "type": "integer"
        },
        {
         "name": "part_id_2",
         "rawType": "int64",
         "type": "integer"
        },
        {
         "name": "part_num_1",
         "rawType": "float64",
         "type": "float"
        },
        {
         "name": "part_num_2",
         "rawType": "object",
         "type": "string"
        },
        {
         "name": "connected",
         "rawType": "int64",
         "type": "integer"
        }
       ],
       "ref": "144b2246-0707-4f3f-b224-34a10f75fa28",
       "rows": [
        [
         "0",
         "0",
         "1",
         "3795.0",
         "3031",
         "1"
        ],
        [
         "1",
         "0",
         "2",
         "3795.0",
         "3795",
         "0"
        ],
        [
         "2",
         "0",
         "3",
         "3795.0",
         "3710",
         "1"
        ],
        [
         "3",
         "0",
         "4",
         "3795.0",
         "3031",
         "0"
        ],
        [
         "4",
         "0",
         "5",
         "3795.0",
         "3032",
         "1"
        ]
       ],
       "shape": {
        "columns": 5,
        "rows": 5
       }
      },
      "text/html": [
       "<div>\n",
       "<style scoped>\n",
       "    .dataframe tbody tr th:only-of-type {\n",
       "        vertical-align: middle;\n",
       "    }\n",
       "\n",
       "    .dataframe tbody tr th {\n",
       "        vertical-align: top;\n",
       "    }\n",
       "\n",
       "    .dataframe thead th {\n",
       "        text-align: right;\n",
       "    }\n",
       "</style>\n",
       "<table border=\"1\" class=\"dataframe\">\n",
       "  <thead>\n",
       "    <tr style=\"text-align: right;\">\n",
       "      <th></th>\n",
       "      <th>part_id_1</th>\n",
       "      <th>part_id_2</th>\n",
       "      <th>part_num_1</th>\n",
       "      <th>part_num_2</th>\n",
       "      <th>connected</th>\n",
       "    </tr>\n",
       "  </thead>\n",
       "  <tbody>\n",
       "    <tr>\n",
       "      <th>0</th>\n",
       "      <td>0</td>\n",
       "      <td>1</td>\n",
       "      <td>3795.0</td>\n",
       "      <td>3031</td>\n",
       "      <td>1</td>\n",
       "    </tr>\n",
       "    <tr>\n",
       "      <th>1</th>\n",
       "      <td>0</td>\n",
       "      <td>2</td>\n",
       "      <td>3795.0</td>\n",
       "      <td>3795</td>\n",
       "      <td>0</td>\n",
       "    </tr>\n",
       "    <tr>\n",
       "      <th>2</th>\n",
       "      <td>0</td>\n",
       "      <td>3</td>\n",
       "      <td>3795.0</td>\n",
       "      <td>3710</td>\n",
       "      <td>1</td>\n",
       "    </tr>\n",
       "    <tr>\n",
       "      <th>3</th>\n",
       "      <td>0</td>\n",
       "      <td>4</td>\n",
       "      <td>3795.0</td>\n",
       "      <td>3031</td>\n",
       "      <td>0</td>\n",
       "    </tr>\n",
       "    <tr>\n",
       "      <th>4</th>\n",
       "      <td>0</td>\n",
       "      <td>5</td>\n",
       "      <td>3795.0</td>\n",
       "      <td>3032</td>\n",
       "      <td>1</td>\n",
       "    </tr>\n",
       "  </tbody>\n",
       "</table>\n",
       "</div>"
      ],
      "text/plain": [
       "   part_id_1  part_id_2  part_num_1 part_num_2  connected\n",
       "0          0          1      3795.0       3031          1\n",
       "1          0          2      3795.0       3795          0\n",
       "2          0          3      3795.0       3710          1\n",
       "3          0          4      3795.0       3031          0\n",
       "4          0          5      3795.0       3032          1"
      ]
     },
     "execution_count": 30,
     "metadata": {},
     "output_type": "execute_result"
    }
   ],
   "source": [
    "gt.head()"
   ]
  },
  {
   "cell_type": "code",
   "execution_count": 31,
   "id": "8af5b8f2",
   "metadata": {},
   "outputs": [],
   "source": [
    "gt.drop([\"part_num_1\", \"part_num_2\"], axis=\"columns\",inplace=True)"
   ]
  },
  {
   "cell_type": "code",
   "execution_count": 32,
   "id": "3285f550",
   "metadata": {},
   "outputs": [
    {
     "data": {
      "application/vnd.microsoft.datawrangler.viewer.v0+json": {
       "columns": [
        {
         "name": "index",
         "rawType": "int64",
         "type": "integer"
        },
        {
         "name": "part_id_1",
         "rawType": "int64",
         "type": "integer"
        },
        {
         "name": "part_id_2",
         "rawType": "int64",
         "type": "integer"
        },
        {
         "name": "connected",
         "rawType": "int64",
         "type": "integer"
        }
       ],
       "ref": "cd21bf22-526e-4c0f-80f9-270cec366d62",
       "rows": [
        [
         "0",
         "0",
         "1",
         "1"
        ],
        [
         "1",
         "0",
         "2",
         "0"
        ],
        [
         "2",
         "0",
         "3",
         "1"
        ],
        [
         "3",
         "0",
         "4",
         "0"
        ],
        [
         "4",
         "0",
         "5",
         "1"
        ]
       ],
       "shape": {
        "columns": 3,
        "rows": 5
       }
      },
      "text/html": [
       "<div>\n",
       "<style scoped>\n",
       "    .dataframe tbody tr th:only-of-type {\n",
       "        vertical-align: middle;\n",
       "    }\n",
       "\n",
       "    .dataframe tbody tr th {\n",
       "        vertical-align: top;\n",
       "    }\n",
       "\n",
       "    .dataframe thead th {\n",
       "        text-align: right;\n",
       "    }\n",
       "</style>\n",
       "<table border=\"1\" class=\"dataframe\">\n",
       "  <thead>\n",
       "    <tr style=\"text-align: right;\">\n",
       "      <th></th>\n",
       "      <th>part_id_1</th>\n",
       "      <th>part_id_2</th>\n",
       "      <th>connected</th>\n",
       "    </tr>\n",
       "  </thead>\n",
       "  <tbody>\n",
       "    <tr>\n",
       "      <th>0</th>\n",
       "      <td>0</td>\n",
       "      <td>1</td>\n",
       "      <td>1</td>\n",
       "    </tr>\n",
       "    <tr>\n",
       "      <th>1</th>\n",
       "      <td>0</td>\n",
       "      <td>2</td>\n",
       "      <td>0</td>\n",
       "    </tr>\n",
       "    <tr>\n",
       "      <th>2</th>\n",
       "      <td>0</td>\n",
       "      <td>3</td>\n",
       "      <td>1</td>\n",
       "    </tr>\n",
       "    <tr>\n",
       "      <th>3</th>\n",
       "      <td>0</td>\n",
       "      <td>4</td>\n",
       "      <td>0</td>\n",
       "    </tr>\n",
       "    <tr>\n",
       "      <th>4</th>\n",
       "      <td>0</td>\n",
       "      <td>5</td>\n",
       "      <td>1</td>\n",
       "    </tr>\n",
       "  </tbody>\n",
       "</table>\n",
       "</div>"
      ],
      "text/plain": [
       "   part_id_1  part_id_2  connected\n",
       "0          0          1          1\n",
       "1          0          2          0\n",
       "2          0          3          1\n",
       "3          0          4          0\n",
       "4          0          5          1"
      ]
     },
     "execution_count": 32,
     "metadata": {},
     "output_type": "execute_result"
    }
   ],
   "source": [
    "gt.head()"
   ]
  },
  {
   "cell_type": "code",
   "execution_count": 33,
   "id": "e8e9b4bd",
   "metadata": {},
   "outputs": [],
   "source": [
    "# Filter: nur Zeilen behalten, wo beide IDs <= 75 sind\n",
    "gt_clean = gt[(gt[\"part_id_1\"] <= 75) & (gt[\"part_id_2\"] <= 75)]\n"
   ]
  },
  {
   "cell_type": "code",
   "execution_count": 36,
   "id": "0dd63072",
   "metadata": {},
   "outputs": [],
   "source": [
    "df_clean = df[(df[\"part_id\"]<=75)]"
   ]
  },
  {
   "cell_type": "code",
   "execution_count": 41,
   "id": "6dee3051",
   "metadata": {},
   "outputs": [],
   "source": [
    "df_clean.to_csv(results_path + \"/\" + \"df_\" + file_name + \".csv\", index=False)\n",
    "gt_clean.to_csv(results_path + \"/\" + \"gt_\" + file_name + \".csv\", index=False)"
   ]
  }
 ],
 "metadata": {
  "kernelspec": {
   "display_name": ".venv",
   "language": "python",
   "name": "python3"
  },
  "language_info": {
   "codemirror_mode": {
    "name": "ipython",
    "version": 3
   },
   "file_extension": ".py",
   "mimetype": "text/x-python",
   "name": "python",
   "nbconvert_exporter": "python",
   "pygments_lexer": "ipython3",
   "version": "3.11.9"
  }
 },
 "nbformat": 4,
 "nbformat_minor": 5
}
