{
 "cells": [
  {
   "cell_type": "code",
   "execution_count": 1,
   "id": "90e7b596",
   "metadata": {},
   "outputs": [],
   "source": [
    "import pandas as pd\n",
    "from parse_ldr import parse_ldr_to_df"
   ]
  },
  {
   "cell_type": "code",
   "execution_count": 2,
   "id": "ac123105",
   "metadata": {},
   "outputs": [],
   "source": [
    "df = parse_ldr_to_df(\"lego/20006-1.mpd\")"
   ]
  },
  {
   "cell_type": "code",
   "execution_count": 18,
   "id": "e3ea1609",
   "metadata": {},
   "outputs": [
    {
     "name": "stdout",
     "output_type": "stream",
     "text": [
      "['6112.dat' '30000.dat' '2877.dat' '3660.dat' '6565.dat' '6564.dat'\n",
      " '20006' '3003.dat' '3020.dat' '2412b.dat' '3023.dat' '3039.dat'\n",
      " '4070.dat' '3794b.dat' '43723.dat' '43722.dat' '3710.dat' '32000.dat'\n",
      " '4274.dat' '32001.dat' '43711.dat' '43710.dat' '3062b.dat' '4697a.dat'\n",
      " '4032a.dat' '4599a.dat' '4592.dat' '4593.dat' '3957a.dat' '55981.dat'\n",
      " '6232.dat' '3701.dat' '3037.dat' '3069b.dat' '30162.dat']\n"
     ]
    }
   ],
   "source": [
    "parts = df[\"part\"].unique()\n",
    "print(parts)"
   ]
  },
  {
   "cell_type": "code",
   "execution_count": 23,
   "id": "5570b843",
   "metadata": {},
   "outputs": [],
   "source": [
    "parts = df[\"part\"].unique()\n",
    "for n, part in enumerate(parts):\n",
    "    part = part.split(\".\")\n",
    "    parts[n] = part[0]"
   ]
  },
  {
   "cell_type": "code",
   "execution_count": 24,
   "id": "e9fdd472",
   "metadata": {},
   "outputs": [
    {
     "name": "stdout",
     "output_type": "stream",
     "text": [
      "['6112' '30000' '2877' '3660' '6565' '6564' '20006' '3003' '3020' '2412b'\n",
      " '3023' '3039' '4070' '3794b' '43723' '43722' '3710' '32000' '4274'\n",
      " '32001' '43711' '43710' '3062b' '4697a' '4032a' '4599a' '4592' '4593'\n",
      " '3957a' '55981' '6232' '3701' '3037' '3069b' '30162']\n"
     ]
    }
   ],
   "source": [
    "print(parts)"
   ]
  },
  {
   "cell_type": "code",
   "execution_count": 19,
   "id": "80f14ee5",
   "metadata": {},
   "outputs": [
    {
     "data": {
      "application/vnd.microsoft.datawrangler.viewer.v0+json": {
       "columns": [
        {
         "name": "index",
         "rawType": "int64",
         "type": "integer"
        },
        {
         "name": "color",
         "rawType": "int64",
         "type": "integer"
        },
        {
         "name": "x",
         "rawType": "float64",
         "type": "float"
        },
        {
         "name": "y",
         "rawType": "float64",
         "type": "float"
        },
        {
         "name": "z",
         "rawType": "float64",
         "type": "float"
        },
        {
         "name": "a",
         "rawType": "float64",
         "type": "float"
        },
        {
         "name": "b",
         "rawType": "float64",
         "type": "float"
        },
        {
         "name": "c",
         "rawType": "float64",
         "type": "float"
        },
        {
         "name": "d",
         "rawType": "float64",
         "type": "float"
        },
        {
         "name": "e",
         "rawType": "float64",
         "type": "float"
        },
        {
         "name": "f",
         "rawType": "float64",
         "type": "float"
        },
        {
         "name": "g",
         "rawType": "float64",
         "type": "float"
        },
        {
         "name": "h",
         "rawType": "float64",
         "type": "float"
        },
        {
         "name": "i",
         "rawType": "float64",
         "type": "float"
        },
        {
         "name": "part",
         "rawType": "object",
         "type": "string"
        }
       ],
       "ref": "e6c1d452-9305-4268-bd9d-7cc8fd1613a3",
       "rows": [
        [
         "0",
         "8",
         "0.0",
         "0.0",
         "0.0",
         "0.0",
         "0.0",
         "1.0",
         "0.0",
         "1.0",
         "0.0",
         "-1.0",
         "0.0",
         "0.0",
         "6112.dat"
        ],
        [
         "1",
         "8",
         "20.0",
         "0.0",
         "0.0",
         "0.0",
         "0.0",
         "1.0",
         "0.0",
         "1.0",
         "0.0",
         "-1.0",
         "0.0",
         "0.0",
         "6112.dat"
        ],
        [
         "2",
         "7",
         "10.0",
         "24.0",
         "-120.0",
         "-1.0",
         "0.0",
         "0.0",
         "0.0",
         "1.0",
         "0.0",
         "0.0",
         "0.0",
         "-1.0",
         "30000.dat"
        ],
        [
         "3",
         "7",
         "10.0",
         "24.0",
         "120.0",
         "-1.0",
         "0.0",
         "0.0",
         "0.0",
         "1.0",
         "0.0",
         "0.0",
         "0.0",
         "-1.0",
         "30000.dat"
        ],
        [
         "4",
         "8",
         "10.0",
         "0.0",
         "130.0",
         "-1.0",
         "0.0",
         "0.0",
         "0.0",
         "1.0",
         "0.0",
         "0.0",
         "0.0",
         "-1.0",
         "2877.dat"
        ]
       ],
       "shape": {
        "columns": 14,
        "rows": 5
       }
      },
      "text/html": [
       "<div>\n",
       "<style scoped>\n",
       "    .dataframe tbody tr th:only-of-type {\n",
       "        vertical-align: middle;\n",
       "    }\n",
       "\n",
       "    .dataframe tbody tr th {\n",
       "        vertical-align: top;\n",
       "    }\n",
       "\n",
       "    .dataframe thead th {\n",
       "        text-align: right;\n",
       "    }\n",
       "</style>\n",
       "<table border=\"1\" class=\"dataframe\">\n",
       "  <thead>\n",
       "    <tr style=\"text-align: right;\">\n",
       "      <th></th>\n",
       "      <th>color</th>\n",
       "      <th>x</th>\n",
       "      <th>y</th>\n",
       "      <th>z</th>\n",
       "      <th>a</th>\n",
       "      <th>b</th>\n",
       "      <th>c</th>\n",
       "      <th>d</th>\n",
       "      <th>e</th>\n",
       "      <th>f</th>\n",
       "      <th>g</th>\n",
       "      <th>h</th>\n",
       "      <th>i</th>\n",
       "      <th>part</th>\n",
       "    </tr>\n",
       "  </thead>\n",
       "  <tbody>\n",
       "    <tr>\n",
       "      <th>0</th>\n",
       "      <td>8</td>\n",
       "      <td>0.0</td>\n",
       "      <td>0.0</td>\n",
       "      <td>0.0</td>\n",
       "      <td>0.0</td>\n",
       "      <td>0.0</td>\n",
       "      <td>1.0</td>\n",
       "      <td>0.0</td>\n",
       "      <td>1.0</td>\n",
       "      <td>0.0</td>\n",
       "      <td>-1.0</td>\n",
       "      <td>0.0</td>\n",
       "      <td>0.0</td>\n",
       "      <td>6112.dat</td>\n",
       "    </tr>\n",
       "    <tr>\n",
       "      <th>1</th>\n",
       "      <td>8</td>\n",
       "      <td>20.0</td>\n",
       "      <td>0.0</td>\n",
       "      <td>0.0</td>\n",
       "      <td>0.0</td>\n",
       "      <td>0.0</td>\n",
       "      <td>1.0</td>\n",
       "      <td>0.0</td>\n",
       "      <td>1.0</td>\n",
       "      <td>0.0</td>\n",
       "      <td>-1.0</td>\n",
       "      <td>0.0</td>\n",
       "      <td>0.0</td>\n",
       "      <td>6112.dat</td>\n",
       "    </tr>\n",
       "    <tr>\n",
       "      <th>2</th>\n",
       "      <td>7</td>\n",
       "      <td>10.0</td>\n",
       "      <td>24.0</td>\n",
       "      <td>-120.0</td>\n",
       "      <td>-1.0</td>\n",
       "      <td>0.0</td>\n",
       "      <td>0.0</td>\n",
       "      <td>0.0</td>\n",
       "      <td>1.0</td>\n",
       "      <td>0.0</td>\n",
       "      <td>0.0</td>\n",
       "      <td>0.0</td>\n",
       "      <td>-1.0</td>\n",
       "      <td>30000.dat</td>\n",
       "    </tr>\n",
       "    <tr>\n",
       "      <th>3</th>\n",
       "      <td>7</td>\n",
       "      <td>10.0</td>\n",
       "      <td>24.0</td>\n",
       "      <td>120.0</td>\n",
       "      <td>-1.0</td>\n",
       "      <td>0.0</td>\n",
       "      <td>0.0</td>\n",
       "      <td>0.0</td>\n",
       "      <td>1.0</td>\n",
       "      <td>0.0</td>\n",
       "      <td>0.0</td>\n",
       "      <td>0.0</td>\n",
       "      <td>-1.0</td>\n",
       "      <td>30000.dat</td>\n",
       "    </tr>\n",
       "    <tr>\n",
       "      <th>4</th>\n",
       "      <td>8</td>\n",
       "      <td>10.0</td>\n",
       "      <td>0.0</td>\n",
       "      <td>130.0</td>\n",
       "      <td>-1.0</td>\n",
       "      <td>0.0</td>\n",
       "      <td>0.0</td>\n",
       "      <td>0.0</td>\n",
       "      <td>1.0</td>\n",
       "      <td>0.0</td>\n",
       "      <td>0.0</td>\n",
       "      <td>0.0</td>\n",
       "      <td>-1.0</td>\n",
       "      <td>2877.dat</td>\n",
       "    </tr>\n",
       "  </tbody>\n",
       "</table>\n",
       "</div>"
      ],
      "text/plain": [
       "   color     x     y      z    a    b    c    d    e    f    g    h    i  \\\n",
       "0      8   0.0   0.0    0.0  0.0  0.0  1.0  0.0  1.0  0.0 -1.0  0.0  0.0   \n",
       "1      8  20.0   0.0    0.0  0.0  0.0  1.0  0.0  1.0  0.0 -1.0  0.0  0.0   \n",
       "2      7  10.0  24.0 -120.0 -1.0  0.0  0.0  0.0  1.0  0.0  0.0  0.0 -1.0   \n",
       "3      7  10.0  24.0  120.0 -1.0  0.0  0.0  0.0  1.0  0.0  0.0  0.0 -1.0   \n",
       "4      8  10.0   0.0  130.0 -1.0  0.0  0.0  0.0  1.0  0.0  0.0  0.0 -1.0   \n",
       "\n",
       "        part  \n",
       "0   6112.dat  \n",
       "1   6112.dat  \n",
       "2  30000.dat  \n",
       "3  30000.dat  \n",
       "4   2877.dat  "
      ]
     },
     "execution_count": 19,
     "metadata": {},
     "output_type": "execute_result"
    }
   ],
   "source": [
    "df.head(5)"
   ]
  },
  {
   "cell_type": "code",
   "execution_count": 25,
   "id": "fa2fcca2",
   "metadata": {},
   "outputs": [
    {
     "name": "stdout",
     "output_type": "stream",
     "text": [
      "3660\n",
      "{'part_num': '3660', 'name': 'Slope Inverted 45° 2 x 2 [Ovoid Bottom Pin, Bar-sized Stud Holes]', 'part_cat_id': 3, 'year_from': 1976, 'year_to': 2025, 'part_url': 'https://rebrickable.com/parts/3660/slope-inverted-45-2-x-2-ovoid-bottom-pin-bar-sized-stud-holes/', 'part_img_url': 'https://cdn.rebrickable.com/media/parts/elements/366026.jpg', 'prints': ['3660pr0001', '3660pr0002', '3660pr0005', '3660pr0010', '3660pr0009', '3660pr0003', '3660pr0006', '3660pr0008', '3660pr0007', '3660pr0004'], 'molds': ['76959', '3660a', '3660b', '7261'], 'alternates': ['3660b'], 'external_ids': {'BrickLink': ['3660'], 'BrickOwl': ['384426'], 'Brickset': ['3660'], 'LDraw': ['3660b', '3660c'], 'LEGO': ['3660']}, 'print_of': None}\n"
     ]
    }
   ],
   "source": [
    "import requests\n",
    "\n",
    "API_KEY = \"3cf4e2d7c447b565d43915f8477869da\"\n",
    "PART_NUM = parts[3]  \n",
    "print(parts[3])\n",
    "\n",
    "url = f\"https://rebrickable.com/api/v3/lego/parts/{PART_NUM}/\"\n",
    "headers = {\"Authorization\": f\"key {API_KEY}\"}\n",
    "\n",
    "response = requests.get(url, headers=headers)\n",
    "\n",
    "if response.status_code == 200:\n",
    "    data = response.json()\n",
    "    print(data)\n",
    "else:\n",
    "    print(\"Fehler:\", response.status_code, response.text)\n"
   ]
  }
 ],
 "metadata": {
  "kernelspec": {
   "display_name": ".venv",
   "language": "python",
   "name": "python3"
  },
  "language_info": {
   "codemirror_mode": {
    "name": "ipython",
    "version": 3
   },
   "file_extension": ".py",
   "mimetype": "text/x-python",
   "name": "python",
   "nbconvert_exporter": "python",
   "pygments_lexer": "ipython3",
   "version": "3.11.9"
  }
 },
 "nbformat": 4,
 "nbformat_minor": 5
}
