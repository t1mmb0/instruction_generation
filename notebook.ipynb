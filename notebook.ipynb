{
 "cells": [
  {
   "cell_type": "code",
   "execution_count": 1,
   "id": "90e7b596",
   "metadata": {},
   "outputs": [],
   "source": [
    "import pandas as pd\n",
    "from parse_ldr import parse_ldr_to_df"
   ]
  },
  {
   "cell_type": "code",
   "execution_count": 2,
   "id": "ac123105",
   "metadata": {},
   "outputs": [],
   "source": [
    "df = parse_ldr_to_df(\"lego/20006-1.mpd\")"
   ]
  },
  {
   "cell_type": "code",
   "execution_count": 6,
   "id": "5570b843",
   "metadata": {},
   "outputs": [],
   "source": [
    "parts = df[\"part\"].unique()"
   ]
  },
  {
   "cell_type": "code",
   "execution_count": null,
   "id": "80f14ee5",
   "metadata": {},
   "outputs": [
    {
     "ename": "TypeError",
     "evalue": "'builtin_function_or_method' object is not subscriptable",
     "output_type": "error",
     "traceback": [
      "\u001b[1;31m---------------------------------------------------------------------------\u001b[0m",
      "\u001b[1;31mTypeError\u001b[0m                                 Traceback (most recent call last)",
      "Cell \u001b[1;32mIn[13], line 1\u001b[0m\n\u001b[1;32m----> 1\u001b[0m part \u001b[38;5;241m=\u001b[39m \u001b[43mparts\u001b[49m\u001b[43m[\u001b[49m\u001b[38;5;241;43m0\u001b[39;49m\u001b[43m]\u001b[49m\u001b[38;5;241;43m.\u001b[39;49m\u001b[43msplit\u001b[49m\u001b[43m[\u001b[49m\u001b[38;5;124;43m\"\u001b[39;49m\u001b[38;5;124;43m.\u001b[39;49m\u001b[38;5;124;43m\"\u001b[39;49m\u001b[43m]\u001b[49m\n\u001b[0;32m      2\u001b[0m \u001b[38;5;28mprint\u001b[39m(part)\n",
      "\u001b[1;31mTypeError\u001b[0m: 'builtin_function_or_method' object is not subscriptable"
     ]
    }
   ],
   "source": [
    "part = parts[0].split(\".\")\n",
    "print(part)"
   ]
  },
  {
   "cell_type": "code",
   "execution_count": null,
   "id": "733828cf",
   "metadata": {},
   "outputs": [],
   "source": []
  },
  {
   "cell_type": "code",
   "execution_count": null,
   "id": "7cc023ee",
   "metadata": {},
   "outputs": [],
   "source": []
  },
  {
   "cell_type": "code",
   "execution_count": 9,
   "id": "fa2fcca2",
   "metadata": {},
   "outputs": [
    {
     "name": "stdout",
     "output_type": "stream",
     "text": [
      "{'part_num': '6112', 'name': 'Brick 1 x 12', 'part_cat_id': 11, 'year_from': 1993, 'year_to': 2025, 'part_url': 'https://rebrickable.com/parts/6112/brick-1-x-12/', 'part_img_url': 'https://cdn.rebrickable.com/media/parts/elements/4211522.jpg', 'prints': ['6112pr0001'], 'molds': [], 'alternates': [], 'external_ids': {'BrickLink': ['6112'], 'BrickOwl': ['783190'], 'Brickset': ['6112'], 'LDraw': ['6112'], 'LEGO': ['6112']}, 'print_of': None}\n"
     ]
    }
   ],
   "source": [
    "import requests\n",
    "\n",
    "API_KEY = \"3cf4e2d7c447b565d43915f8477869da\"\n",
    "PART_NUM = \"6112\"  \n",
    "\n",
    "url = f\"https://rebrickable.com/api/v3/lego/parts/{PART_NUM}/\"\n",
    "headers = {\"Authorization\": f\"key {API_KEY}\"}\n",
    "\n",
    "response = requests.get(url, headers=headers)\n",
    "\n",
    "if response.status_code == 200:\n",
    "    data = response.json()\n",
    "    print(data)\n",
    "else:\n",
    "    print(\"Fehler:\", response.status_code, response.text)\n"
   ]
  }
 ],
 "metadata": {
  "kernelspec": {
   "display_name": ".venv",
   "language": "python",
   "name": "python3"
  },
  "language_info": {
   "codemirror_mode": {
    "name": "ipython",
    "version": 3
   },
   "file_extension": ".py",
   "mimetype": "text/x-python",
   "name": "python",
   "nbconvert_exporter": "python",
   "pygments_lexer": "ipython3",
   "version": "3.11.9"
  }
 },
 "nbformat": 4,
 "nbformat_minor": 5
}
