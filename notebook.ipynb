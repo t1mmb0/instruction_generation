{
 "cells": [
  {
   "cell_type": "markdown",
   "id": "ac8801a4",
   "metadata": {},
   "source": [
    "# Ldraw file"
   ]
  },
  {
   "cell_type": "code",
   "execution_count": 12,
   "id": "8e063dcb",
   "metadata": {},
   "outputs": [],
   "source": [
    "import parse_ldr\n",
    "import pandas as pd"
   ]
  },
  {
   "cell_type": "code",
   "execution_count": 10,
   "id": "ef503475",
   "metadata": {},
   "outputs": [],
   "source": [
    "parts = parse_ldr.parse_ldr(\"lego/Beispiel.ldr\")"
   ]
  },
  {
   "cell_type": "code",
   "execution_count": 13,
   "id": "aec3171d",
   "metadata": {},
   "outputs": [],
   "source": [
    "df = pd.DataFrame(parts)"
   ]
  },
  {
   "cell_type": "code",
   "execution_count": 14,
   "id": "3c8e0960",
   "metadata": {},
   "outputs": [
    {
     "data": {
      "text/html": [
       "<div>\n",
       "<style scoped>\n",
       "    .dataframe tbody tr th:only-of-type {\n",
       "        vertical-align: middle;\n",
       "    }\n",
       "\n",
       "    .dataframe tbody tr th {\n",
       "        vertical-align: top;\n",
       "    }\n",
       "\n",
       "    .dataframe thead th {\n",
       "        text-align: right;\n",
       "    }\n",
       "</style>\n",
       "<table border=\"1\" class=\"dataframe\">\n",
       "  <thead>\n",
       "    <tr style=\"text-align: right;\">\n",
       "      <th></th>\n",
       "      <th>part_id</th>\n",
       "      <th>color</th>\n",
       "      <th>x</th>\n",
       "      <th>y</th>\n",
       "      <th>z</th>\n",
       "    </tr>\n",
       "  </thead>\n",
       "  <tbody>\n",
       "    <tr>\n",
       "      <th>0</th>\n",
       "      <td>3001.dat</td>\n",
       "      <td>15</td>\n",
       "      <td>0.0</td>\n",
       "      <td>-24.0</td>\n",
       "      <td>-20.0</td>\n",
       "    </tr>\n",
       "    <tr>\n",
       "      <th>1</th>\n",
       "      <td>3001.dat</td>\n",
       "      <td>15</td>\n",
       "      <td>0.0</td>\n",
       "      <td>-24.0</td>\n",
       "      <td>20.0</td>\n",
       "    </tr>\n",
       "    <tr>\n",
       "      <th>2</th>\n",
       "      <td>3004.dat</td>\n",
       "      <td>15</td>\n",
       "      <td>-10.0</td>\n",
       "      <td>-48.0</td>\n",
       "      <td>0.0</td>\n",
       "    </tr>\n",
       "    <tr>\n",
       "      <th>3</th>\n",
       "      <td>14716.dat</td>\n",
       "      <td>15</td>\n",
       "      <td>10.0</td>\n",
       "      <td>-96.0</td>\n",
       "      <td>10.0</td>\n",
       "    </tr>\n",
       "    <tr>\n",
       "      <th>4</th>\n",
       "      <td>3005.dat</td>\n",
       "      <td>15</td>\n",
       "      <td>10.0</td>\n",
       "      <td>-48.0</td>\n",
       "      <td>-10.0</td>\n",
       "    </tr>\n",
       "  </tbody>\n",
       "</table>\n",
       "</div>"
      ],
      "text/plain": [
       "     part_id  color     x     y     z\n",
       "0   3001.dat     15   0.0 -24.0 -20.0\n",
       "1   3001.dat     15   0.0 -24.0  20.0\n",
       "2   3004.dat     15 -10.0 -48.0   0.0\n",
       "3  14716.dat     15  10.0 -96.0  10.0\n",
       "4   3005.dat     15  10.0 -48.0 -10.0"
      ]
     },
     "execution_count": 14,
     "metadata": {},
     "output_type": "execute_result"
    }
   ],
   "source": [
    "df.head()"
   ]
  }
 ],
 "metadata": {
  "kernelspec": {
   "display_name": ".venv",
   "language": "python",
   "name": "python3"
  },
  "language_info": {
   "codemirror_mode": {
    "name": "ipython",
    "version": 3
   },
   "file_extension": ".py",
   "mimetype": "text/x-python",
   "name": "python",
   "nbconvert_exporter": "python",
   "pygments_lexer": "ipython3",
   "version": "3.11.9"
  }
 },
 "nbformat": 4,
 "nbformat_minor": 5
}
