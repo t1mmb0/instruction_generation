{
 "cells": [
  {
   "cell_type": "code",
   "execution_count": 8,
   "id": "36dd4d68",
   "metadata": {},
   "outputs": [],
   "source": [
    "import pandas as pd\n",
    "import os\n",
    "import re\n",
    "from config import CONFIG\n"
   ]
  },
  {
   "cell_type": "code",
   "execution_count": 9,
   "id": "c2cf1b1e",
   "metadata": {},
   "outputs": [],
   "source": [
    "raw_data_path = CONFIG[\"paths\"][\"raw_data\"]\n",
    "processed_data_path = CONFIG[\"paths\"][\"processsed\"]"
   ]
  },
  {
   "cell_type": "code",
   "execution_count": 10,
   "id": "060aeeb2",
   "metadata": {},
   "outputs": [],
   "source": [
    "data_model = pd.read_csv(\"./data/processed/20006-1_model.csv\")\n",
    "data_parts = pd.read_csv(\"./data/processed/20006-1_parts.csv\")"
   ]
  },
  {
   "cell_type": "code",
   "execution_count": 11,
   "id": "cf1ca211",
   "metadata": {},
   "outputs": [
    {
     "data": {
      "application/vnd.microsoft.datawrangler.viewer.v0+json": {
       "columns": [
        {
         "name": "index",
         "rawType": "int64",
         "type": "integer"
        },
        {
         "name": "color",
         "rawType": "int64",
         "type": "integer"
        },
        {
         "name": "x",
         "rawType": "float64",
         "type": "float"
        },
        {
         "name": "y",
         "rawType": "float64",
         "type": "float"
        },
        {
         "name": "z",
         "rawType": "float64",
         "type": "float"
        },
        {
         "name": "a",
         "rawType": "float64",
         "type": "float"
        },
        {
         "name": "b",
         "rawType": "float64",
         "type": "float"
        },
        {
         "name": "c",
         "rawType": "float64",
         "type": "float"
        },
        {
         "name": "d",
         "rawType": "float64",
         "type": "float"
        },
        {
         "name": "e",
         "rawType": "float64",
         "type": "float"
        },
        {
         "name": "f",
         "rawType": "float64",
         "type": "float"
        },
        {
         "name": "g",
         "rawType": "float64",
         "type": "float"
        },
        {
         "name": "h",
         "rawType": "float64",
         "type": "float"
        },
        {
         "name": "i",
         "rawType": "float64",
         "type": "float"
        },
        {
         "name": "part",
         "rawType": "object",
         "type": "string"
        }
       ],
       "ref": "9bddace1-b2a5-4e22-91ca-57388f04073c",
       "rows": [
        [
         "0",
         "8",
         "0.0",
         "0.0",
         "0.0",
         "0.0",
         "0.0",
         "1.0",
         "0.0",
         "1.0",
         "0.0",
         "-1.0",
         "0.0",
         "0.0",
         "6112"
        ],
        [
         "1",
         "8",
         "20.0",
         "0.0",
         "0.0",
         "0.0",
         "0.0",
         "1.0",
         "0.0",
         "1.0",
         "0.0",
         "-1.0",
         "0.0",
         "0.0",
         "6112"
        ],
        [
         "2",
         "7",
         "10.0",
         "24.0",
         "-120.0",
         "-1.0",
         "0.0",
         "0.0",
         "0.0",
         "1.0",
         "0.0",
         "0.0",
         "0.0",
         "-1.0",
         "30000"
        ],
        [
         "3",
         "7",
         "10.0",
         "24.0",
         "120.0",
         "-1.0",
         "0.0",
         "0.0",
         "0.0",
         "1.0",
         "0.0",
         "0.0",
         "0.0",
         "-1.0",
         "30000"
        ],
        [
         "4",
         "8",
         "10.0",
         "0.0",
         "130.0",
         "-1.0",
         "0.0",
         "0.0",
         "0.0",
         "1.0",
         "0.0",
         "0.0",
         "0.0",
         "-1.0",
         "2877"
        ]
       ],
       "shape": {
        "columns": 14,
        "rows": 5
       }
      },
      "text/html": [
       "<div>\n",
       "<style scoped>\n",
       "    .dataframe tbody tr th:only-of-type {\n",
       "        vertical-align: middle;\n",
       "    }\n",
       "\n",
       "    .dataframe tbody tr th {\n",
       "        vertical-align: top;\n",
       "    }\n",
       "\n",
       "    .dataframe thead th {\n",
       "        text-align: right;\n",
       "    }\n",
       "</style>\n",
       "<table border=\"1\" class=\"dataframe\">\n",
       "  <thead>\n",
       "    <tr style=\"text-align: right;\">\n",
       "      <th></th>\n",
       "      <th>color</th>\n",
       "      <th>x</th>\n",
       "      <th>y</th>\n",
       "      <th>z</th>\n",
       "      <th>a</th>\n",
       "      <th>b</th>\n",
       "      <th>c</th>\n",
       "      <th>d</th>\n",
       "      <th>e</th>\n",
       "      <th>f</th>\n",
       "      <th>g</th>\n",
       "      <th>h</th>\n",
       "      <th>i</th>\n",
       "      <th>part</th>\n",
       "    </tr>\n",
       "  </thead>\n",
       "  <tbody>\n",
       "    <tr>\n",
       "      <th>0</th>\n",
       "      <td>8</td>\n",
       "      <td>0.0</td>\n",
       "      <td>0.0</td>\n",
       "      <td>0.0</td>\n",
       "      <td>0.0</td>\n",
       "      <td>0.0</td>\n",
       "      <td>1.0</td>\n",
       "      <td>0.0</td>\n",
       "      <td>1.0</td>\n",
       "      <td>0.0</td>\n",
       "      <td>-1.0</td>\n",
       "      <td>0.0</td>\n",
       "      <td>0.0</td>\n",
       "      <td>6112</td>\n",
       "    </tr>\n",
       "    <tr>\n",
       "      <th>1</th>\n",
       "      <td>8</td>\n",
       "      <td>20.0</td>\n",
       "      <td>0.0</td>\n",
       "      <td>0.0</td>\n",
       "      <td>0.0</td>\n",
       "      <td>0.0</td>\n",
       "      <td>1.0</td>\n",
       "      <td>0.0</td>\n",
       "      <td>1.0</td>\n",
       "      <td>0.0</td>\n",
       "      <td>-1.0</td>\n",
       "      <td>0.0</td>\n",
       "      <td>0.0</td>\n",
       "      <td>6112</td>\n",
       "    </tr>\n",
       "    <tr>\n",
       "      <th>2</th>\n",
       "      <td>7</td>\n",
       "      <td>10.0</td>\n",
       "      <td>24.0</td>\n",
       "      <td>-120.0</td>\n",
       "      <td>-1.0</td>\n",
       "      <td>0.0</td>\n",
       "      <td>0.0</td>\n",
       "      <td>0.0</td>\n",
       "      <td>1.0</td>\n",
       "      <td>0.0</td>\n",
       "      <td>0.0</td>\n",
       "      <td>0.0</td>\n",
       "      <td>-1.0</td>\n",
       "      <td>30000</td>\n",
       "    </tr>\n",
       "    <tr>\n",
       "      <th>3</th>\n",
       "      <td>7</td>\n",
       "      <td>10.0</td>\n",
       "      <td>24.0</td>\n",
       "      <td>120.0</td>\n",
       "      <td>-1.0</td>\n",
       "      <td>0.0</td>\n",
       "      <td>0.0</td>\n",
       "      <td>0.0</td>\n",
       "      <td>1.0</td>\n",
       "      <td>0.0</td>\n",
       "      <td>0.0</td>\n",
       "      <td>0.0</td>\n",
       "      <td>-1.0</td>\n",
       "      <td>30000</td>\n",
       "    </tr>\n",
       "    <tr>\n",
       "      <th>4</th>\n",
       "      <td>8</td>\n",
       "      <td>10.0</td>\n",
       "      <td>0.0</td>\n",
       "      <td>130.0</td>\n",
       "      <td>-1.0</td>\n",
       "      <td>0.0</td>\n",
       "      <td>0.0</td>\n",
       "      <td>0.0</td>\n",
       "      <td>1.0</td>\n",
       "      <td>0.0</td>\n",
       "      <td>0.0</td>\n",
       "      <td>0.0</td>\n",
       "      <td>-1.0</td>\n",
       "      <td>2877</td>\n",
       "    </tr>\n",
       "  </tbody>\n",
       "</table>\n",
       "</div>"
      ],
      "text/plain": [
       "   color     x     y      z    a    b    c    d    e    f    g    h    i  \\\n",
       "0      8   0.0   0.0    0.0  0.0  0.0  1.0  0.0  1.0  0.0 -1.0  0.0  0.0   \n",
       "1      8  20.0   0.0    0.0  0.0  0.0  1.0  0.0  1.0  0.0 -1.0  0.0  0.0   \n",
       "2      7  10.0  24.0 -120.0 -1.0  0.0  0.0  0.0  1.0  0.0  0.0  0.0 -1.0   \n",
       "3      7  10.0  24.0  120.0 -1.0  0.0  0.0  0.0  1.0  0.0  0.0  0.0 -1.0   \n",
       "4      8  10.0   0.0  130.0 -1.0  0.0  0.0  0.0  1.0  0.0  0.0  0.0 -1.0   \n",
       "\n",
       "    part  \n",
       "0   6112  \n",
       "1   6112  \n",
       "2  30000  \n",
       "3  30000  \n",
       "4   2877  "
      ]
     },
     "execution_count": 11,
     "metadata": {},
     "output_type": "execute_result"
    }
   ],
   "source": [
    "data_model.head()"
   ]
  },
  {
   "cell_type": "code",
   "execution_count": 12,
   "id": "6409a2ab",
   "metadata": {},
   "outputs": [],
   "source": [
    "data_parts = data_parts[[\"part_num\",\"part_name\",\"part_cat_id\",\"year_from\", \"year_to\", \"category_name\", \"dim1\", \"dim2\", \"dim3\", \"bracket_info\"]]\n",
    "df = data_model.join(data_parts.set_index('part_num'), on='part')\n",
    "df = df.reset_index().rename(columns={\"index\": \"part_id\"})\n"
   ]
  },
  {
   "cell_type": "code",
   "execution_count": 13,
   "id": "b5a8923e",
   "metadata": {},
   "outputs": [
    {
     "data": {
      "application/vnd.microsoft.datawrangler.viewer.v0+json": {
       "columns": [
        {
         "name": "index",
         "rawType": "int64",
         "type": "integer"
        },
        {
         "name": "part_id_1",
         "rawType": "int64",
         "type": "integer"
        },
        {
         "name": "part_id_2",
         "rawType": "int64",
         "type": "integer"
        },
        {
         "name": "part_num_1",
         "rawType": "object",
         "type": "string"
        },
        {
         "name": "part_num_2",
         "rawType": "object",
         "type": "string"
        },
        {
         "name": "connected",
         "rawType": "int64",
         "type": "integer"
        }
       ],
       "ref": "6c5a1204-6db8-40cb-962f-0fb4ba6e55e3",
       "rows": [
        [
         "0",
         "0",
         "1",
         "6112",
         "6112",
         "0"
        ],
        [
         "1",
         "0",
         "2",
         "6112",
         "30000",
         "0"
        ],
        [
         "2",
         "0",
         "3",
         "6112",
         "30000",
         "0"
        ],
        [
         "3",
         "0",
         "4",
         "6112",
         "2877",
         "0"
        ],
        [
         "4",
         "0",
         "5",
         "6112",
         "3660",
         "0"
        ],
        [
         "5",
         "0",
         "6",
         "6112",
         "30000",
         "0"
        ],
        [
         "6",
         "0",
         "7",
         "6112",
         "30000",
         "0"
        ],
        [
         "7",
         "0",
         "8",
         "6112",
         "30000",
         "0"
        ],
        [
         "8",
         "0",
         "9",
         "6112",
         "6565",
         "0"
        ],
        [
         "9",
         "0",
         "10",
         "6112",
         "6564",
         "0"
        ],
        [
         "10",
         "0",
         "11",
         "6112",
         "3003",
         "0"
        ],
        [
         "11",
         "0",
         "12",
         "6112",
         "6565",
         "0"
        ],
        [
         "12",
         "0",
         "13",
         "6112",
         "6564",
         "0"
        ],
        [
         "13",
         "0",
         "14",
         "6112",
         "2877",
         "0"
        ],
        [
         "14",
         "0",
         "15",
         "6112",
         "3020",
         "0"
        ],
        [
         "15",
         "0",
         "16",
         "6112",
         "2412b",
         "0"
        ],
        [
         "16",
         "0",
         "17",
         "6112",
         "3023",
         "0"
        ],
        [
         "17",
         "0",
         "18",
         "6112",
         "3023",
         "0"
        ],
        [
         "18",
         "0",
         "19",
         "6112",
         "3039",
         "0"
        ],
        [
         "19",
         "0",
         "20",
         "6112",
         "3039",
         "0"
        ],
        [
         "20",
         "0",
         "21",
         "6112",
         "3003",
         "0"
        ],
        [
         "21",
         "0",
         "22",
         "6112",
         "4070",
         "0"
        ],
        [
         "22",
         "0",
         "23",
         "6112",
         "4070",
         "0"
        ],
        [
         "23",
         "0",
         "24",
         "6112",
         "3794b",
         "0"
        ],
        [
         "24",
         "0",
         "25",
         "6112",
         "43723",
         "0"
        ],
        [
         "25",
         "0",
         "26",
         "6112",
         "43722",
         "0"
        ],
        [
         "26",
         "0",
         "27",
         "6112",
         "32000",
         "0"
        ],
        [
         "27",
         "0",
         "28",
         "6112",
         "32000",
         "0"
        ],
        [
         "28",
         "0",
         "29",
         "6112",
         "4274",
         "0"
        ],
        [
         "29",
         "0",
         "30",
         "6112",
         "4274",
         "0"
        ],
        [
         "30",
         "0",
         "31",
         "6112",
         "4274",
         "0"
        ],
        [
         "31",
         "0",
         "32",
         "6112",
         "4274",
         "0"
        ],
        [
         "32",
         "0",
         "33",
         "6112",
         "32001",
         "0"
        ],
        [
         "33",
         "0",
         "34",
         "6112",
         "43711",
         "0"
        ],
        [
         "34",
         "0",
         "35",
         "6112",
         "3062b",
         "0"
        ],
        [
         "35",
         "0",
         "36",
         "6112",
         "3062b",
         "0"
        ],
        [
         "36",
         "0",
         "37",
         "6112",
         "4697a",
         "0"
        ],
        [
         "37",
         "0",
         "38",
         "6112",
         "4697a",
         "0"
        ],
        [
         "38",
         "0",
         "39",
         "6112",
         "4032a",
         "0"
        ],
        [
         "39",
         "0",
         "40",
         "6112",
         "4599a",
         "0"
        ],
        [
         "40",
         "0",
         "41",
         "6112",
         "4592",
         "0"
        ],
        [
         "41",
         "0",
         "42",
         "6112",
         "4593",
         "0"
        ],
        [
         "42",
         "0",
         "43",
         "6112",
         "3957a",
         "0"
        ],
        [
         "43",
         "0",
         "44",
         "6112",
         "55981",
         "0"
        ],
        [
         "44",
         "0",
         "45",
         "6112",
         "55981",
         "0"
        ],
        [
         "45",
         "0",
         "46",
         "6112",
         "55981",
         "0"
        ],
        [
         "46",
         "0",
         "47",
         "6112",
         "55981",
         "0"
        ],
        [
         "47",
         "0",
         "48",
         "6112",
         "55981",
         "0"
        ],
        [
         "48",
         "0",
         "49",
         "6112",
         "55981",
         "0"
        ],
        [
         "49",
         "0",
         "50",
         "6112",
         "55981",
         "0"
        ]
       ],
       "shape": {
        "columns": 5,
        "rows": 1891
       }
      },
      "text/html": [
       "<div>\n",
       "<style scoped>\n",
       "    .dataframe tbody tr th:only-of-type {\n",
       "        vertical-align: middle;\n",
       "    }\n",
       "\n",
       "    .dataframe tbody tr th {\n",
       "        vertical-align: top;\n",
       "    }\n",
       "\n",
       "    .dataframe thead th {\n",
       "        text-align: right;\n",
       "    }\n",
       "</style>\n",
       "<table border=\"1\" class=\"dataframe\">\n",
       "  <thead>\n",
       "    <tr style=\"text-align: right;\">\n",
       "      <th></th>\n",
       "      <th>part_id_1</th>\n",
       "      <th>part_id_2</th>\n",
       "      <th>part_num_1</th>\n",
       "      <th>part_num_2</th>\n",
       "      <th>connected</th>\n",
       "    </tr>\n",
       "  </thead>\n",
       "  <tbody>\n",
       "    <tr>\n",
       "      <th>0</th>\n",
       "      <td>0</td>\n",
       "      <td>1</td>\n",
       "      <td>6112</td>\n",
       "      <td>6112</td>\n",
       "      <td>0</td>\n",
       "    </tr>\n",
       "    <tr>\n",
       "      <th>1</th>\n",
       "      <td>0</td>\n",
       "      <td>2</td>\n",
       "      <td>6112</td>\n",
       "      <td>30000</td>\n",
       "      <td>0</td>\n",
       "    </tr>\n",
       "    <tr>\n",
       "      <th>2</th>\n",
       "      <td>0</td>\n",
       "      <td>3</td>\n",
       "      <td>6112</td>\n",
       "      <td>30000</td>\n",
       "      <td>0</td>\n",
       "    </tr>\n",
       "    <tr>\n",
       "      <th>3</th>\n",
       "      <td>0</td>\n",
       "      <td>4</td>\n",
       "      <td>6112</td>\n",
       "      <td>2877</td>\n",
       "      <td>0</td>\n",
       "    </tr>\n",
       "    <tr>\n",
       "      <th>4</th>\n",
       "      <td>0</td>\n",
       "      <td>5</td>\n",
       "      <td>6112</td>\n",
       "      <td>3660</td>\n",
       "      <td>0</td>\n",
       "    </tr>\n",
       "    <tr>\n",
       "      <th>...</th>\n",
       "      <td>...</td>\n",
       "      <td>...</td>\n",
       "      <td>...</td>\n",
       "      <td>...</td>\n",
       "      <td>...</td>\n",
       "    </tr>\n",
       "    <tr>\n",
       "      <th>1886</th>\n",
       "      <td>58</td>\n",
       "      <td>60</td>\n",
       "      <td>30162</td>\n",
       "      <td>3069b</td>\n",
       "      <td>0</td>\n",
       "    </tr>\n",
       "    <tr>\n",
       "      <th>1887</th>\n",
       "      <td>58</td>\n",
       "      <td>61</td>\n",
       "      <td>30162</td>\n",
       "      <td>30162</td>\n",
       "      <td>0</td>\n",
       "    </tr>\n",
       "    <tr>\n",
       "      <th>1888</th>\n",
       "      <td>59</td>\n",
       "      <td>60</td>\n",
       "      <td>3037</td>\n",
       "      <td>3069b</td>\n",
       "      <td>0</td>\n",
       "    </tr>\n",
       "    <tr>\n",
       "      <th>1889</th>\n",
       "      <td>59</td>\n",
       "      <td>61</td>\n",
       "      <td>3037</td>\n",
       "      <td>30162</td>\n",
       "      <td>0</td>\n",
       "    </tr>\n",
       "    <tr>\n",
       "      <th>1890</th>\n",
       "      <td>60</td>\n",
       "      <td>61</td>\n",
       "      <td>3069b</td>\n",
       "      <td>30162</td>\n",
       "      <td>0</td>\n",
       "    </tr>\n",
       "  </tbody>\n",
       "</table>\n",
       "<p>1891 rows × 5 columns</p>\n",
       "</div>"
      ],
      "text/plain": [
       "      part_id_1  part_id_2 part_num_1 part_num_2  connected\n",
       "0             0          1       6112       6112          0\n",
       "1             0          2       6112      30000          0\n",
       "2             0          3       6112      30000          0\n",
       "3             0          4       6112       2877          0\n",
       "4             0          5       6112       3660          0\n",
       "...         ...        ...        ...        ...        ...\n",
       "1886         58         60      30162      3069b          0\n",
       "1887         58         61      30162      30162          0\n",
       "1888         59         60       3037      3069b          0\n",
       "1889         59         61       3037      30162          0\n",
       "1890         60         61      3069b      30162          0\n",
       "\n",
       "[1891 rows x 5 columns]"
      ]
     },
     "execution_count": 13,
     "metadata": {},
     "output_type": "execute_result"
    }
   ],
   "source": [
    "import itertools\n",
    "pairs = []\n",
    "for (i1, row1), (i2, row2) in itertools.combinations(df.iterrows(), 2):\n",
    "    pairs.append({\n",
    "            \"part_id_1\": row1[\"part_id\"],\n",
    "            \"part_id_2\": row2[\"part_id\"],\n",
    "            \"part_num_1\": row1[\"part\"],\n",
    "            \"part_num_2\": row2[\"part\"],\n",
    "            \"connected\": 0\n",
    "        })\n",
    "pairs_df = pd.DataFrame(pairs)\n",
    "pairs_df"
   ]
  },
  {
   "cell_type": "code",
   "execution_count": 14,
   "id": "a15557ab",
   "metadata": {},
   "outputs": [],
   "source": [
    "df.to_csv(\"./results/20006-1.csv\", index=False)\n",
    "pairs_df.to_csv(\"./results/ground_truth_20006-1.csv\", index=False)"
   ]
  }
 ],
 "metadata": {
  "kernelspec": {
   "display_name": ".venv",
   "language": "python",
   "name": "python3"
  },
  "language_info": {
   "codemirror_mode": {
    "name": "ipython",
    "version": 3
   },
   "file_extension": ".py",
   "mimetype": "text/x-python",
   "name": "python",
   "nbconvert_exporter": "python",
   "pygments_lexer": "ipython3",
   "version": "3.11.9"
  }
 },
 "nbformat": 4,
 "nbformat_minor": 5
}
