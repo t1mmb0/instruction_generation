{
 "cells": [
  {
   "cell_type": "code",
   "execution_count": 29,
   "id": "36dd4d68",
   "metadata": {},
   "outputs": [],
   "source": [
    "import pandas as pd\n",
    "import os\n",
    "import re\n",
    "from config import CONFIG\n"
   ]
  },
  {
   "cell_type": "code",
   "execution_count": 30,
   "id": "c2cf1b1e",
   "metadata": {},
   "outputs": [],
   "source": [
    "raw_data_path = CONFIG[\"paths\"][\"raw_data\"]\n",
    "processed_data_path = CONFIG[\"paths\"][\"processsed\"]\n",
    "results_path = CONFIG[\"paths\"][\"results\"]"
   ]
  },
  {
   "cell_type": "code",
   "execution_count": 31,
   "id": "de0c3b14",
   "metadata": {},
   "outputs": [],
   "source": [
    "file_name = \"20009-1\""
   ]
  },
  {
   "cell_type": "code",
   "execution_count": 32,
   "id": "060aeeb2",
   "metadata": {},
   "outputs": [],
   "source": [
    "data_model = pd.read_csv(processed_data_path + \"/\" + file_name + \"_model.csv\")\n",
    "data_parts = pd.read_csv(processed_data_path + \"/\" + file_name + \"_parts.csv\")"
   ]
  },
  {
   "cell_type": "code",
   "execution_count": 33,
   "id": "cf1ca211",
   "metadata": {},
   "outputs": [
    {
     "data": {
      "application/vnd.microsoft.datawrangler.viewer.v0+json": {
       "columns": [
        {
         "name": "index",
         "rawType": "int64",
         "type": "integer"
        },
        {
         "name": "color",
         "rawType": "int64",
         "type": "integer"
        },
        {
         "name": "x",
         "rawType": "float64",
         "type": "float"
        },
        {
         "name": "y",
         "rawType": "float64",
         "type": "float"
        },
        {
         "name": "z",
         "rawType": "float64",
         "type": "float"
        },
        {
         "name": "a",
         "rawType": "float64",
         "type": "float"
        },
        {
         "name": "b",
         "rawType": "float64",
         "type": "float"
        },
        {
         "name": "c",
         "rawType": "float64",
         "type": "float"
        },
        {
         "name": "d",
         "rawType": "float64",
         "type": "float"
        },
        {
         "name": "e",
         "rawType": "float64",
         "type": "float"
        },
        {
         "name": "f",
         "rawType": "float64",
         "type": "float"
        },
        {
         "name": "g",
         "rawType": "float64",
         "type": "float"
        },
        {
         "name": "h",
         "rawType": "float64",
         "type": "float"
        },
        {
         "name": "i",
         "rawType": "float64",
         "type": "float"
        },
        {
         "name": "part",
         "rawType": "object",
         "type": "string"
        }
       ],
       "ref": "7d6f5ae6-479a-4385-a0f7-ac75b511f8f0",
       "rows": [
        [
         "0",
         "7",
         "0.0",
         "0.0",
         "0.0",
         "0.0",
         "0.0",
         "1.0",
         "0.0",
         "1.0",
         "0.0",
         "-1.0",
         "0.0",
         "0.0",
         "3795"
        ],
        [
         "1",
         "8",
         "0.0",
         "-8.0",
         "-20.0",
         "0.0",
         "0.0",
         "1.0",
         "0.0",
         "1.0",
         "0.0",
         "-1.0",
         "0.0",
         "0.0",
         "3031"
        ],
        [
         "2",
         "7",
         "0.0",
         "0.0",
         "120.0",
         "0.0",
         "0.0",
         "1.0",
         "0.0",
         "1.0",
         "0.0",
         "-1.0",
         "0.0",
         "0.0",
         "3795"
        ],
        [
         "3",
         "7",
         "0.0",
         "-8.0",
         "30.0",
         "-1.0",
         "0.0",
         "0.0",
         "0.0",
         "1.0",
         "0.0",
         "0.0",
         "0.0",
         "-1.0",
         "3710"
        ],
        [
         "4",
         "8",
         "0.0",
         "-8.0",
         "160.0",
         "0.0",
         "0.0",
         "1.0",
         "0.0",
         "1.0",
         "0.0",
         "-1.0",
         "0.0",
         "0.0",
         "3031"
        ]
       ],
       "shape": {
        "columns": 14,
        "rows": 5
       }
      },
      "text/html": [
       "<div>\n",
       "<style scoped>\n",
       "    .dataframe tbody tr th:only-of-type {\n",
       "        vertical-align: middle;\n",
       "    }\n",
       "\n",
       "    .dataframe tbody tr th {\n",
       "        vertical-align: top;\n",
       "    }\n",
       "\n",
       "    .dataframe thead th {\n",
       "        text-align: right;\n",
       "    }\n",
       "</style>\n",
       "<table border=\"1\" class=\"dataframe\">\n",
       "  <thead>\n",
       "    <tr style=\"text-align: right;\">\n",
       "      <th></th>\n",
       "      <th>color</th>\n",
       "      <th>x</th>\n",
       "      <th>y</th>\n",
       "      <th>z</th>\n",
       "      <th>a</th>\n",
       "      <th>b</th>\n",
       "      <th>c</th>\n",
       "      <th>d</th>\n",
       "      <th>e</th>\n",
       "      <th>f</th>\n",
       "      <th>g</th>\n",
       "      <th>h</th>\n",
       "      <th>i</th>\n",
       "      <th>part</th>\n",
       "    </tr>\n",
       "  </thead>\n",
       "  <tbody>\n",
       "    <tr>\n",
       "      <th>0</th>\n",
       "      <td>7</td>\n",
       "      <td>0.0</td>\n",
       "      <td>0.0</td>\n",
       "      <td>0.0</td>\n",
       "      <td>0.0</td>\n",
       "      <td>0.0</td>\n",
       "      <td>1.0</td>\n",
       "      <td>0.0</td>\n",
       "      <td>1.0</td>\n",
       "      <td>0.0</td>\n",
       "      <td>-1.0</td>\n",
       "      <td>0.0</td>\n",
       "      <td>0.0</td>\n",
       "      <td>3795</td>\n",
       "    </tr>\n",
       "    <tr>\n",
       "      <th>1</th>\n",
       "      <td>8</td>\n",
       "      <td>0.0</td>\n",
       "      <td>-8.0</td>\n",
       "      <td>-20.0</td>\n",
       "      <td>0.0</td>\n",
       "      <td>0.0</td>\n",
       "      <td>1.0</td>\n",
       "      <td>0.0</td>\n",
       "      <td>1.0</td>\n",
       "      <td>0.0</td>\n",
       "      <td>-1.0</td>\n",
       "      <td>0.0</td>\n",
       "      <td>0.0</td>\n",
       "      <td>3031</td>\n",
       "    </tr>\n",
       "    <tr>\n",
       "      <th>2</th>\n",
       "      <td>7</td>\n",
       "      <td>0.0</td>\n",
       "      <td>0.0</td>\n",
       "      <td>120.0</td>\n",
       "      <td>0.0</td>\n",
       "      <td>0.0</td>\n",
       "      <td>1.0</td>\n",
       "      <td>0.0</td>\n",
       "      <td>1.0</td>\n",
       "      <td>0.0</td>\n",
       "      <td>-1.0</td>\n",
       "      <td>0.0</td>\n",
       "      <td>0.0</td>\n",
       "      <td>3795</td>\n",
       "    </tr>\n",
       "    <tr>\n",
       "      <th>3</th>\n",
       "      <td>7</td>\n",
       "      <td>0.0</td>\n",
       "      <td>-8.0</td>\n",
       "      <td>30.0</td>\n",
       "      <td>-1.0</td>\n",
       "      <td>0.0</td>\n",
       "      <td>0.0</td>\n",
       "      <td>0.0</td>\n",
       "      <td>1.0</td>\n",
       "      <td>0.0</td>\n",
       "      <td>0.0</td>\n",
       "      <td>0.0</td>\n",
       "      <td>-1.0</td>\n",
       "      <td>3710</td>\n",
       "    </tr>\n",
       "    <tr>\n",
       "      <th>4</th>\n",
       "      <td>8</td>\n",
       "      <td>0.0</td>\n",
       "      <td>-8.0</td>\n",
       "      <td>160.0</td>\n",
       "      <td>0.0</td>\n",
       "      <td>0.0</td>\n",
       "      <td>1.0</td>\n",
       "      <td>0.0</td>\n",
       "      <td>1.0</td>\n",
       "      <td>0.0</td>\n",
       "      <td>-1.0</td>\n",
       "      <td>0.0</td>\n",
       "      <td>0.0</td>\n",
       "      <td>3031</td>\n",
       "    </tr>\n",
       "  </tbody>\n",
       "</table>\n",
       "</div>"
      ],
      "text/plain": [
       "   color    x    y      z    a    b    c    d    e    f    g    h    i  part\n",
       "0      7  0.0  0.0    0.0  0.0  0.0  1.0  0.0  1.0  0.0 -1.0  0.0  0.0  3795\n",
       "1      8  0.0 -8.0  -20.0  0.0  0.0  1.0  0.0  1.0  0.0 -1.0  0.0  0.0  3031\n",
       "2      7  0.0  0.0  120.0  0.0  0.0  1.0  0.0  1.0  0.0 -1.0  0.0  0.0  3795\n",
       "3      7  0.0 -8.0   30.0 -1.0  0.0  0.0  0.0  1.0  0.0  0.0  0.0 -1.0  3710\n",
       "4      8  0.0 -8.0  160.0  0.0  0.0  1.0  0.0  1.0  0.0 -1.0  0.0  0.0  3031"
      ]
     },
     "execution_count": 33,
     "metadata": {},
     "output_type": "execute_result"
    }
   ],
   "source": [
    "data_model.head()"
   ]
  },
  {
   "cell_type": "code",
   "execution_count": 34,
   "id": "6409a2ab",
   "metadata": {},
   "outputs": [],
   "source": [
    "data_parts = data_parts[[\"part_num\",\"part_name\",\"part_cat_id\",\"year_from\", \"year_to\", \"category_name\", \"dim1\", \"dim2\", \"dim3\", \"bracket_info\"]]\n",
    "df = data_model.join(data_parts.set_index('part_num'), on='part')\n",
    "df = df.reset_index().rename(columns={\"index\": \"part_id\"})\n"
   ]
  },
  {
   "cell_type": "code",
   "execution_count": 35,
   "id": "b5a8923e",
   "metadata": {},
   "outputs": [
    {
     "data": {
      "application/vnd.microsoft.datawrangler.viewer.v0+json": {
       "columns": [
        {
         "name": "index",
         "rawType": "int64",
         "type": "integer"
        },
        {
         "name": "part_id_1",
         "rawType": "int64",
         "type": "integer"
        },
        {
         "name": "part_id_2",
         "rawType": "int64",
         "type": "integer"
        },
        {
         "name": "part_num_1",
         "rawType": "object",
         "type": "string"
        },
        {
         "name": "part_num_2",
         "rawType": "object",
         "type": "string"
        },
        {
         "name": "connected",
         "rawType": "int64",
         "type": "integer"
        }
       ],
       "ref": "e8d79f6e-7414-486f-88b1-1cc2b2956c2d",
       "rows": [
        [
         "0",
         "0",
         "1",
         "3795",
         "3031",
         "0"
        ],
        [
         "1",
         "0",
         "2",
         "3795",
         "3795",
         "0"
        ],
        [
         "2",
         "0",
         "3",
         "3795",
         "3710",
         "0"
        ],
        [
         "3",
         "0",
         "4",
         "3795",
         "3031",
         "0"
        ],
        [
         "4",
         "0",
         "5",
         "3795",
         "3032",
         "0"
        ],
        [
         "5",
         "0",
         "6",
         "3795",
         "3795",
         "0"
        ],
        [
         "6",
         "0",
         "7",
         "3795",
         "3001",
         "0"
        ],
        [
         "7",
         "0",
         "8",
         "3795",
         "3937",
         "0"
        ],
        [
         "8",
         "0",
         "9",
         "3795",
         "43710",
         "0"
        ],
        [
         "9",
         "0",
         "10",
         "3795",
         "43711",
         "0"
        ],
        [
         "10",
         "0",
         "11",
         "3795",
         "3937",
         "0"
        ],
        [
         "11",
         "0",
         "12",
         "3795",
         "3937",
         "0"
        ],
        [
         "12",
         "0",
         "13",
         "3795",
         "3040b",
         "0"
        ],
        [
         "13",
         "0",
         "14",
         "3795",
         "3040b",
         "0"
        ],
        [
         "14",
         "0",
         "15",
         "3795",
         "43710",
         "0"
        ],
        [
         "15",
         "0",
         "16",
         "3795",
         "43711",
         "0"
        ],
        [
         "16",
         "0",
         "17",
         "3795",
         "3040b",
         "0"
        ],
        [
         "17",
         "0",
         "18",
         "3795",
         "3040b",
         "0"
        ],
        [
         "18",
         "0",
         "19",
         "3795",
         "4592",
         "0"
        ],
        [
         "19",
         "0",
         "20",
         "3795",
         "4592",
         "0"
        ],
        [
         "20",
         "0",
         "21",
         "3795",
         "4593",
         "0"
        ],
        [
         "21",
         "0",
         "22",
         "3795",
         "4593",
         "0"
        ],
        [
         "22",
         "0",
         "23",
         "3795",
         "3938",
         "0"
        ],
        [
         "23",
         "0",
         "24",
         "3795",
         "3938",
         "0"
        ],
        [
         "24",
         "0",
         "25",
         "3795",
         "3938",
         "0"
        ],
        [
         "25",
         "0",
         "26",
         "3795",
         "3298",
         "0"
        ],
        [
         "26",
         "0",
         "27",
         "3795",
         "3794b",
         "0"
        ],
        [
         "27",
         "0",
         "28",
         "3795",
         "3794b",
         "0"
        ],
        [
         "28",
         "0",
         "29",
         "3795",
         "3794b",
         "0"
        ],
        [
         "29",
         "0",
         "30",
         "3795",
         "3023",
         "0"
        ],
        [
         "30",
         "0",
         "31",
         "3795",
         "3023",
         "0"
        ],
        [
         "31",
         "0",
         "32",
         "3795",
         "3020",
         "0"
        ],
        [
         "32",
         "0",
         "33",
         "3795",
         "3021",
         "0"
        ],
        [
         "33",
         "0",
         "34",
         "3795",
         "2412b",
         "0"
        ],
        [
         "34",
         "0",
         "35",
         "3795",
         "2412b",
         "0"
        ],
        [
         "35",
         "0",
         "36",
         "3795",
         "54200",
         "0"
        ],
        [
         "36",
         "0",
         "37",
         "3795",
         "54200",
         "0"
        ],
        [
         "37",
         "0",
         "38",
         "3795",
         "4592",
         "0"
        ],
        [
         "38",
         "0",
         "39",
         "3795",
         "4593",
         "0"
        ],
        [
         "39",
         "0",
         "40",
         "3795",
         "4592",
         "0"
        ],
        [
         "40",
         "0",
         "41",
         "3795",
         "4593",
         "0"
        ],
        [
         "41",
         "0",
         "42",
         "3795",
         "3068b",
         "0"
        ],
        [
         "42",
         "0",
         "43",
         "3795",
         "4150",
         "0"
        ],
        [
         "43",
         "0",
         "44",
         "3795",
         "4150",
         "0"
        ],
        [
         "44",
         "0",
         "45",
         "3795",
         "3794b",
         "0"
        ],
        [
         "45",
         "0",
         "46",
         "3795",
         "4287",
         "0"
        ],
        [
         "46",
         "0",
         "47",
         "3795",
         "47905",
         "0"
        ],
        [
         "47",
         "0",
         "48",
         "3795",
         "3024",
         "0"
        ],
        [
         "48",
         "0",
         "49",
         "3795",
         "3024",
         "0"
        ],
        [
         "49",
         "0",
         "50",
         "3795",
         "3024",
         "0"
        ]
       ],
       "shape": {
        "columns": 5,
        "rows": 4560
       }
      },
      "text/html": [
       "<div>\n",
       "<style scoped>\n",
       "    .dataframe tbody tr th:only-of-type {\n",
       "        vertical-align: middle;\n",
       "    }\n",
       "\n",
       "    .dataframe tbody tr th {\n",
       "        vertical-align: top;\n",
       "    }\n",
       "\n",
       "    .dataframe thead th {\n",
       "        text-align: right;\n",
       "    }\n",
       "</style>\n",
       "<table border=\"1\" class=\"dataframe\">\n",
       "  <thead>\n",
       "    <tr style=\"text-align: right;\">\n",
       "      <th></th>\n",
       "      <th>part_id_1</th>\n",
       "      <th>part_id_2</th>\n",
       "      <th>part_num_1</th>\n",
       "      <th>part_num_2</th>\n",
       "      <th>connected</th>\n",
       "    </tr>\n",
       "  </thead>\n",
       "  <tbody>\n",
       "    <tr>\n",
       "      <th>0</th>\n",
       "      <td>0</td>\n",
       "      <td>1</td>\n",
       "      <td>3795</td>\n",
       "      <td>3031</td>\n",
       "      <td>0</td>\n",
       "    </tr>\n",
       "    <tr>\n",
       "      <th>1</th>\n",
       "      <td>0</td>\n",
       "      <td>2</td>\n",
       "      <td>3795</td>\n",
       "      <td>3795</td>\n",
       "      <td>0</td>\n",
       "    </tr>\n",
       "    <tr>\n",
       "      <th>2</th>\n",
       "      <td>0</td>\n",
       "      <td>3</td>\n",
       "      <td>3795</td>\n",
       "      <td>3710</td>\n",
       "      <td>0</td>\n",
       "    </tr>\n",
       "    <tr>\n",
       "      <th>3</th>\n",
       "      <td>0</td>\n",
       "      <td>4</td>\n",
       "      <td>3795</td>\n",
       "      <td>3031</td>\n",
       "      <td>0</td>\n",
       "    </tr>\n",
       "    <tr>\n",
       "      <th>4</th>\n",
       "      <td>0</td>\n",
       "      <td>5</td>\n",
       "      <td>3795</td>\n",
       "      <td>3032</td>\n",
       "      <td>0</td>\n",
       "    </tr>\n",
       "    <tr>\n",
       "      <th>...</th>\n",
       "      <td>...</td>\n",
       "      <td>...</td>\n",
       "      <td>...</td>\n",
       "      <td>...</td>\n",
       "      <td>...</td>\n",
       "    </tr>\n",
       "    <tr>\n",
       "      <th>4555</th>\n",
       "      <td>92</td>\n",
       "      <td>94</td>\n",
       "      <td>63965</td>\n",
       "      <td>2555</td>\n",
       "      <td>0</td>\n",
       "    </tr>\n",
       "    <tr>\n",
       "      <th>4556</th>\n",
       "      <td>92</td>\n",
       "      <td>95</td>\n",
       "      <td>63965</td>\n",
       "      <td>30375</td>\n",
       "      <td>0</td>\n",
       "    </tr>\n",
       "    <tr>\n",
       "      <th>4557</th>\n",
       "      <td>93</td>\n",
       "      <td>94</td>\n",
       "      <td>4740</td>\n",
       "      <td>2555</td>\n",
       "      <td>0</td>\n",
       "    </tr>\n",
       "    <tr>\n",
       "      <th>4558</th>\n",
       "      <td>93</td>\n",
       "      <td>95</td>\n",
       "      <td>4740</td>\n",
       "      <td>30375</td>\n",
       "      <td>0</td>\n",
       "    </tr>\n",
       "    <tr>\n",
       "      <th>4559</th>\n",
       "      <td>94</td>\n",
       "      <td>95</td>\n",
       "      <td>2555</td>\n",
       "      <td>30375</td>\n",
       "      <td>0</td>\n",
       "    </tr>\n",
       "  </tbody>\n",
       "</table>\n",
       "<p>4560 rows × 5 columns</p>\n",
       "</div>"
      ],
      "text/plain": [
       "      part_id_1  part_id_2 part_num_1 part_num_2  connected\n",
       "0             0          1       3795       3031          0\n",
       "1             0          2       3795       3795          0\n",
       "2             0          3       3795       3710          0\n",
       "3             0          4       3795       3031          0\n",
       "4             0          5       3795       3032          0\n",
       "...         ...        ...        ...        ...        ...\n",
       "4555         92         94      63965       2555          0\n",
       "4556         92         95      63965      30375          0\n",
       "4557         93         94       4740       2555          0\n",
       "4558         93         95       4740      30375          0\n",
       "4559         94         95       2555      30375          0\n",
       "\n",
       "[4560 rows x 5 columns]"
      ]
     },
     "execution_count": 35,
     "metadata": {},
     "output_type": "execute_result"
    }
   ],
   "source": [
    "import itertools\n",
    "pairs = []\n",
    "for (i1, row1), (i2, row2) in itertools.combinations(df.iterrows(), 2):\n",
    "    pairs.append({\n",
    "            \"part_id_1\": row1[\"part_id\"],\n",
    "            \"part_id_2\": row2[\"part_id\"],\n",
    "            \"part_num_1\": row1[\"part\"],\n",
    "            \"part_num_2\": row2[\"part\"],\n",
    "            \"connected\": 0\n",
    "        })\n",
    "pairs_df = pd.DataFrame(pairs)\n",
    "pairs_df"
   ]
  },
  {
   "cell_type": "code",
   "execution_count": 36,
   "id": "a15557ab",
   "metadata": {},
   "outputs": [],
   "source": [
    "df.to_csv(results_path + \"/\" + \"df_\" + file_name + \".csv\", index=False)\n",
    "pairs_df.to_csv(results_path + \"/\" + \"ground_truth_\" + file_name + \".csv\", index=False)"
   ]
  }
 ],
 "metadata": {
  "kernelspec": {
   "display_name": ".venv",
   "language": "python",
   "name": "python3"
  },
  "language_info": {
   "codemirror_mode": {
    "name": "ipython",
    "version": 3
   },
   "file_extension": ".py",
   "mimetype": "text/x-python",
   "name": "python",
   "nbconvert_exporter": "python",
   "pygments_lexer": "ipython3",
   "version": "3.11.9"
  }
 },
 "nbformat": 4,
 "nbformat_minor": 5
}
